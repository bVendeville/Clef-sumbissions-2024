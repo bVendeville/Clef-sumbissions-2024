{
  "nbformat": 4,
  "nbformat_minor": 0,
  "metadata": {
    "colab": {
      "provenance": []
    },
    "kernelspec": {
      "name": "python3",
      "display_name": "Python 3"
    },
    "language_info": {
      "name": "python"
    }
  },
  "cells": [
    {
      "cell_type": "code",
      "source": [
        "def check_format(df,columns):\n",
        "  df.columns= df.columns.str.lower()\n",
        "  for c in columns:\n",
        "    if not c.lower() in df.columns:\n",
        "      print('ERROR:\\n\\tThere is no column named '+c+'\\n\\t\\tPlease check the format. You can find format requirements at https://www.joker-project.com/clef-2022/EN/project')\n",
        "  if not df['manual'].isin([0,1]).prod():\n",
        "    print('ERROR:\\n\\tThere is an error in the column MANUAL. The values should be in [0,1]. '+c+'\\n\\t\\tPlease check the format. You can find format requirements at https://www.joker-project.com/clef-2022/EN/project')\n",
        "  if df['run_id'].str.lower().str.split(r\"_task_?\\d_?\",expand=True).shape[1]!=2:\n",
        "    print('ERROR:\\n\\tRUN_ID must have the following format: TEAM_ID_TASK_ID_RUN_NAME, e.g. BTU_TASK_2_MANUAL or UBO_TASK3_RUN_1. \\n\\t\\tPlease check the format. You can find format requirements at https://www.joker-project.com/clef-2022/EN/project')\n"
      ],
      "metadata": {
        "id": "a4lfe0X3Kdm8"
      },
      "execution_count": null,
      "outputs": []
    },
    {
      "cell_type": "code",
      "source": [
        "def check_json(fn,columns):\n",
        "  import pandas as pd\n",
        "  try:\n",
        "    df=pd.read_json(fn)\n",
        "    check_format(df,columns)\n",
        "  except Exception as e:\n",
        "    print (e)\n",
        "    print('ERROR:\\n\\tThe file is not found or it is not in a JSON format\\n\\t\\tPlease check the format. You can find format requirements at https://www.joker-project.com/clef-2022/EN/project')"
      ],
      "metadata": {
        "id": "wsPUym5FcLGs"
      },
      "execution_count": null,
      "outputs": []
    },
    {
      "cell_type": "code",
      "source": [
        "def check_csv(fn,columns):\n",
        "  import pandas as pd\n",
        "  try:\n",
        "    df=pd.read_csv(fn, sep='\\t')\n",
        "    check_format(df,columns)\n",
        "  except Exception as e:\n",
        "    print (e)\n",
        "    print('ERROR:\\n\\tThe file is not found or it is not in a CSV format with the TAB separator\\n\\t\\tPlease check the format. You can find format requirements at https://www.joker-project.com/clef-2022/EN/project')"
      ],
      "metadata": {
        "id": "KiTPugXQK0C4"
      },
      "execution_count": null,
      "outputs": []
    },
    {
      "cell_type": "code",
      "source": [
        "def joker_check_json_task_1(fn):\n",
        "  check_json(fn,['RUN_ID','MANUAL','id',\"WORDPLAY\",\"TARGET_WORD\",\"DISAMBIGUATION\",\"HORIZONTAL\\/VERTICAL\",\"MANIPULATION_TYPE\",\"MANIPULATION_LEVEL\",\"CULTURAL_REFERENCE\",\"CONVENTIONAL_FORM\",\"OFFENSIVE\"])\n",
        "\n",
        "def joker_check_json_task_2(fn):\n",
        "  check_json(fn,['RUN_ID','MANUAL','id','en','fr'])\n",
        "\n",
        "def joker_check_json_task_3(fn):\n",
        "  check_json(fn,['RUN_ID','MANUAL','id','en','fr'])"
      ],
      "metadata": {
        "id": "GgZKtqfaJ5Ku"
      },
      "execution_count": null,
      "outputs": []
    },
    {
      "cell_type": "code",
      "source": [
        "def joker_check_csv_task_1(fn):\n",
        "  check_csv(fn,['RUN_ID','MANUAL','id',\"WORDPLAY\",\"TARGET_WORD\",\"DISAMBIGUATION\",\"HORIZONTAL\\/VERTICAL\",\"MANIPULATION_TYPE\",\"MANIPULATION_LEVEL\",\"CULTURAL_REFERENCE\",\"CONVENTIONAL_FORM\",\"OFFENSIVE\"])\n",
        "\n",
        "def joker_check_csv_task_2(fn):\n",
        "  check_csv(fn,['RUN_ID','MANUAL','id','en','fr'])\n",
        "\n",
        "def joker_check_csv_task_3(fn):\n",
        "  check_csv(fn,['RUN_ID','MANUAL','id','en','fr'])"
      ],
      "metadata": {
        "id": "w-NgxasWNgtZ"
      },
      "execution_count": null,
      "outputs": []
    },
    {
      "cell_type": "code",
      "source": [
        "def simpletext_check_json_task_1(fn):\n",
        "  check_json(fn,['RUN_ID','MANUAL','topic_id','query_id','doc_id','passage'])\n",
        "\n",
        "def simpletext_check_json_task_2(fn):\n",
        "  check_json(fn,['RUN_ID','MANUAL',\"snt_id\",\"term\",\"term_rank_snt\",\"score_5\",\"score_3\"])\n",
        "\n",
        "def simpletext_check_json_task_3(fn):\n",
        "  check_json(fn,['RUN_ID','MANUAL','snt_id','simplified_snt'])"
      ],
      "metadata": {
        "id": "KI454o7DJ4WI"
      },
      "execution_count": null,
      "outputs": []
    },
    {
      "cell_type": "code",
      "source": [
        "def simpletext_check_csv_task_1(fn):\n",
        "  check_csv(fn,['RUN_ID','MANUAL','topic_id','query_id','doc_id','passage'])\n",
        "\n",
        "def simpletext_check_csv_task_2(fn):\n",
        "  check_csv(fn,['RUN_ID','MANUAL',\"snt_id\",\"term\",\"term_rank_snt\",\"score_5\",\"score_3\"])\n",
        "\n",
        "def simpletext_check_csv_task_3(fn):\n",
        "  check_csv(fn,['RUN_ID','MANUAL','snt_id','simplified_snt'])"
      ],
      "metadata": {
        "id": "AAd2Xkt2NSD3"
      },
      "execution_count": null,
      "outputs": []
    },
    {
      "cell_type": "code",
      "source": [
        "\n",
        "import argparse\n",
        "\n",
        "parser = argparse.ArgumentParser(description='Check CLEF output format.')\n",
        "parser.add_argument('-filename', dest='fn', required=True, help='Full file name to check')\n",
        "parser.add_argument('-track', dest='track', required=True, choices=['joker','simpletext'],help='CLEF lab name: joker or simpletext')\n",
        "parser.add_argument('-task', dest='task', required=True, choices=['1','2','3'],help='Task id: 1, 2 or 3')\n",
        "\n",
        "args = parser.parse_args()\n"
      ],
      "metadata": {
        "colab": {
          "base_uri": "https://localhost:8080/",
          "height": 221
        },
        "id": "glWkhKPAOb30",
        "outputId": "f0d888be-e3b7-4705-8ea2-973f6de4eeab"
      },
      "execution_count": null,
      "outputs": [
        {
          "output_type": "stream",
          "name": "stderr",
          "text": [
            "usage: ipykernel_launcher.py [-h] -filename FN -track {joker,simpletext} -task\n",
            "                             {1,2,3}\n",
            "ipykernel_launcher.py: error: the following arguments are required: -track, -task\n"
          ]
        },
        {
          "output_type": "error",
          "ename": "SystemExit",
          "evalue": "ignored",
          "traceback": [
            "An exception has occurred, use %tb to see the full traceback.\n",
            "\u001b[0;31mSystemExit\u001b[0m\u001b[0;31m:\u001b[0m 2\n"
          ]
        },
        {
          "output_type": "stream",
          "name": "stderr",
          "text": [
            "/usr/local/lib/python3.7/dist-packages/IPython/core/interactiveshell.py:2890: UserWarning: To exit: use 'exit', 'quit', or Ctrl-D.\n",
            "  warn(\"To exit: use 'exit', 'quit', or Ctrl-D.\", stacklevel=1)\n"
          ]
        }
      ]
    },
    {
      "cell_type": "code",
      "source": [
        "import os\n",
        "\n",
        "ext=os.path.splitext(args.fn)[1][1:]\n",
        "\n",
        "locals()[args.track+\"_check_\"+ext+\"_task_\"+str(args.task)](args.fn)"
      ],
      "metadata": {
        "id": "C8uzBtKcS2Wj"
      },
      "execution_count": null,
      "outputs": []
    }
  ]
}