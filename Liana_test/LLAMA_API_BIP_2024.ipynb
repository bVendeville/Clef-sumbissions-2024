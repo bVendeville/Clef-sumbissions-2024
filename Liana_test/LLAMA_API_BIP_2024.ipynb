{
  "cells": [
    {
      "cell_type": "markdown",
      "metadata": {
        "id": "0slxUqYO15en"
      },
      "source": [
        "# Using LLAMA2 via API\n",
        "\n",
        "An application programming interface (API) facilitates communication between computer programs, serving as a software interface enabling services to be shared between them. Unlike a user interface, which connects a computer to a person, an API links computers or software components together, typically accessed by programmers rather than end users for software integration.\n",
        "\n",
        "More information: https://github.com/meta-llama/llama-recipes/blob/main/recipes/quickstart/Prompt_Engineering_with_Llama_2.ipynb"
      ]
    },
    {
      "cell_type": "code",
      "execution_count": 3,
      "metadata": {
        "colab": {
          "base_uri": "https://localhost:8080/"
        },
        "id": "snj2ezcz1xO8",
        "outputId": "ddb9c0c1-1666-48ac-9e20-46f0ad85994a"
      },
      "outputs": [
        {
          "name": "stdout",
          "output_type": "stream",
          "text": [
            "Collecting langchain\n",
            "  Downloading langchain-0.1.16-py3-none-any.whl.metadata (13 kB)\n",
            "Collecting replicate\n",
            "  Downloading replicate-0.25.2-py3-none-any.whl.metadata (24 kB)\n",
            "Requirement already satisfied: PyYAML>=5.3 in c:\\users\\master\\desktop\\metrics_implementation\\myenv\\lib\\site-packages (from langchain) (6.0.1)\n",
            "Collecting SQLAlchemy<3,>=1.4 (from langchain)\n",
            "  Downloading SQLAlchemy-2.0.29-cp39-cp39-win_amd64.whl.metadata (9.8 kB)\n",
            "Collecting aiohttp<4.0.0,>=3.8.3 (from langchain)\n",
            "  Downloading aiohttp-3.9.5-cp39-cp39-win_amd64.whl.metadata (7.7 kB)\n",
            "Collecting async-timeout<5.0.0,>=4.0.0 (from langchain)\n",
            "  Downloading async_timeout-4.0.3-py3-none-any.whl.metadata (4.2 kB)\n",
            "Collecting dataclasses-json<0.7,>=0.5.7 (from langchain)\n",
            "  Downloading dataclasses_json-0.6.4-py3-none-any.whl.metadata (25 kB)\n",
            "Collecting jsonpatch<2.0,>=1.33 (from langchain)\n",
            "  Downloading jsonpatch-1.33-py2.py3-none-any.whl.metadata (3.0 kB)\n",
            "Collecting langchain-community<0.1,>=0.0.32 (from langchain)\n",
            "  Downloading langchain_community-0.0.34-py3-none-any.whl.metadata (8.5 kB)\n",
            "Collecting langchain-core<0.2.0,>=0.1.42 (from langchain)\n",
            "  Downloading langchain_core-0.1.45-py3-none-any.whl.metadata (5.9 kB)\n",
            "Collecting langchain-text-splitters<0.1,>=0.0.1 (from langchain)\n",
            "  Downloading langchain_text_splitters-0.0.1-py3-none-any.whl.metadata (2.0 kB)\n",
            "Collecting langsmith<0.2.0,>=0.1.17 (from langchain)\n",
            "  Downloading langsmith-0.1.49-py3-none-any.whl.metadata (13 kB)\n",
            "Requirement already satisfied: numpy<2,>=1 in c:\\users\\master\\desktop\\metrics_implementation\\myenv\\lib\\site-packages (from langchain) (1.26.4)\n",
            "Collecting pydantic<3,>=1 (from langchain)\n",
            "  Downloading pydantic-2.7.0-py3-none-any.whl.metadata (103 kB)\n",
            "     ---------------------------------------- 0.0/103.4 kB ? eta -:--:--\n",
            "     -------------------------------------- 103.4/103.4 kB 3.0 MB/s eta 0:00:00\n",
            "Requirement already satisfied: requests<3,>=2 in c:\\users\\master\\desktop\\metrics_implementation\\myenv\\lib\\site-packages (from langchain) (2.31.0)\n",
            "Requirement already satisfied: tenacity<9.0.0,>=8.1.0 in c:\\users\\master\\desktop\\metrics_implementation\\myenv\\lib\\site-packages (from langchain) (8.2.3)\n",
            "Collecting httpx<1,>=0.21.0 (from replicate)\n",
            "  Downloading httpx-0.27.0-py3-none-any.whl.metadata (7.2 kB)\n",
            "Requirement already satisfied: packaging in c:\\users\\master\\desktop\\metrics_implementation\\myenv\\lib\\site-packages (from replicate) (23.2)\n",
            "Requirement already satisfied: typing-extensions>=4.5.0 in c:\\users\\master\\desktop\\metrics_implementation\\myenv\\lib\\site-packages (from replicate) (4.10.0)\n",
            "Collecting aiosignal>=1.1.2 (from aiohttp<4.0.0,>=3.8.3->langchain)\n",
            "  Downloading aiosignal-1.3.1-py3-none-any.whl.metadata (4.0 kB)\n",
            "Collecting attrs>=17.3.0 (from aiohttp<4.0.0,>=3.8.3->langchain)\n",
            "  Downloading attrs-23.2.0-py3-none-any.whl.metadata (9.5 kB)\n",
            "Collecting frozenlist>=1.1.1 (from aiohttp<4.0.0,>=3.8.3->langchain)\n",
            "  Downloading frozenlist-1.4.1-cp39-cp39-win_amd64.whl.metadata (12 kB)\n",
            "Collecting multidict<7.0,>=4.5 (from aiohttp<4.0.0,>=3.8.3->langchain)\n",
            "  Downloading multidict-6.0.5-cp39-cp39-win_amd64.whl.metadata (4.3 kB)\n",
            "Collecting yarl<2.0,>=1.0 (from aiohttp<4.0.0,>=3.8.3->langchain)\n",
            "  Downloading yarl-1.9.4-cp39-cp39-win_amd64.whl.metadata (32 kB)\n",
            "Collecting marshmallow<4.0.0,>=3.18.0 (from dataclasses-json<0.7,>=0.5.7->langchain)\n",
            "  Downloading marshmallow-3.21.1-py3-none-any.whl.metadata (7.2 kB)\n",
            "Collecting typing-inspect<1,>=0.4.0 (from dataclasses-json<0.7,>=0.5.7->langchain)\n",
            "  Downloading typing_inspect-0.9.0-py3-none-any.whl.metadata (1.5 kB)\n",
            "Collecting anyio (from httpx<1,>=0.21.0->replicate)\n",
            "  Downloading anyio-4.3.0-py3-none-any.whl.metadata (4.6 kB)\n",
            "Requirement already satisfied: certifi in c:\\users\\master\\desktop\\metrics_implementation\\myenv\\lib\\site-packages (from httpx<1,>=0.21.0->replicate) (2024.2.2)\n",
            "Collecting httpcore==1.* (from httpx<1,>=0.21.0->replicate)\n",
            "  Downloading httpcore-1.0.5-py3-none-any.whl.metadata (20 kB)\n",
            "Requirement already satisfied: idna in c:\\users\\master\\desktop\\metrics_implementation\\myenv\\lib\\site-packages (from httpx<1,>=0.21.0->replicate) (3.6)\n",
            "Collecting sniffio (from httpx<1,>=0.21.0->replicate)\n",
            "  Downloading sniffio-1.3.1-py3-none-any.whl.metadata (3.9 kB)\n",
            "Collecting h11<0.15,>=0.13 (from httpcore==1.*->httpx<1,>=0.21.0->replicate)\n",
            "  Downloading h11-0.14.0-py3-none-any.whl.metadata (8.2 kB)\n",
            "Collecting jsonpointer>=1.9 (from jsonpatch<2.0,>=1.33->langchain)\n",
            "  Downloading jsonpointer-2.4-py2.py3-none-any.whl.metadata (2.5 kB)\n",
            "Collecting orjson<4.0.0,>=3.9.14 (from langsmith<0.2.0,>=0.1.17->langchain)\n",
            "  Downloading orjson-3.10.1-cp39-none-win_amd64.whl.metadata (50 kB)\n",
            "     ---------------------------------------- 0.0/50.9 kB ? eta -:--:--\n",
            "     ---------------------------------------- 50.9/50.9 kB ? eta 0:00:00\n",
            "Collecting annotated-types>=0.4.0 (from pydantic<3,>=1->langchain)\n",
            "  Downloading annotated_types-0.6.0-py3-none-any.whl.metadata (12 kB)\n",
            "Collecting pydantic-core==2.18.1 (from pydantic<3,>=1->langchain)\n",
            "  Downloading pydantic_core-2.18.1-cp39-none-win_amd64.whl.metadata (6.7 kB)\n",
            "Requirement already satisfied: charset-normalizer<4,>=2 in c:\\users\\master\\desktop\\metrics_implementation\\myenv\\lib\\site-packages (from requests<3,>=2->langchain) (3.3.2)\n",
            "Requirement already satisfied: urllib3<3,>=1.21.1 in c:\\users\\master\\desktop\\metrics_implementation\\myenv\\lib\\site-packages (from requests<3,>=2->langchain) (2.2.1)\n",
            "Collecting greenlet!=0.4.17 (from SQLAlchemy<3,>=1.4->langchain)\n",
            "  Downloading greenlet-3.0.3-cp39-cp39-win_amd64.whl.metadata (3.9 kB)\n",
            "Collecting mypy-extensions>=0.3.0 (from typing-inspect<1,>=0.4.0->dataclasses-json<0.7,>=0.5.7->langchain)\n",
            "  Downloading mypy_extensions-1.0.0-py3-none-any.whl.metadata (1.1 kB)\n",
            "Requirement already satisfied: exceptiongroup>=1.0.2 in c:\\users\\master\\desktop\\metrics_implementation\\myenv\\lib\\site-packages (from anyio->httpx<1,>=0.21.0->replicate) (1.2.0)\n",
            "Downloading langchain-0.1.16-py3-none-any.whl (817 kB)\n",
            "   ---------------------------------------- 0.0/817.7 kB ? eta -:--:--\n",
            "   ------------------- -------------------- 399.4/817.7 kB 8.5 MB/s eta 0:00:01\n",
            "   --------------------------------------  798.7/817.7 kB 10.1 MB/s eta 0:00:01\n",
            "   --------------------------------------  798.7/817.7 kB 10.1 MB/s eta 0:00:01\n",
            "   --------------------------------------  798.7/817.7 kB 10.1 MB/s eta 0:00:01\n",
            "   --------------------------------------  798.7/817.7 kB 10.1 MB/s eta 0:00:01\n",
            "   --------------------------------------  798.7/817.7 kB 10.1 MB/s eta 0:00:01\n",
            "   ---------------------------------------- 817.7/817.7 kB 2.6 MB/s eta 0:00:00\n",
            "Downloading replicate-0.25.2-py3-none-any.whl (39 kB)\n",
            "Downloading aiohttp-3.9.5-cp39-cp39-win_amd64.whl (371 kB)\n",
            "   ---------------------------------------- 0.0/371.6 kB ? eta -:--:--\n",
            "   --------------------------------- ------ 307.2/371.6 kB 9.6 MB/s eta 0:00:01\n",
            "   ---------------------------------------- 371.6/371.6 kB 5.8 MB/s eta 0:00:00\n",
            "Downloading async_timeout-4.0.3-py3-none-any.whl (5.7 kB)\n",
            "Downloading dataclasses_json-0.6.4-py3-none-any.whl (28 kB)\n",
            "Downloading httpx-0.27.0-py3-none-any.whl (75 kB)\n",
            "   ---------------------------------------- 0.0/75.6 kB ? eta -:--:--\n",
            "   ---------------------------------------- 75.6/75.6 kB 4.4 MB/s eta 0:00:00\n",
            "Downloading httpcore-1.0.5-py3-none-any.whl (77 kB)\n",
            "   ---------------------------------------- 0.0/77.9 kB ? eta -:--:--\n",
            "   ------------------------------------ --- 71.7/77.9 kB ? eta -:--:--\n",
            "   ------------------------------------ --- 71.7/77.9 kB ? eta -:--:--\n",
            "   ---------------------------------------- 77.9/77.9 kB 621.0 kB/s eta 0:00:00\n",
            "Downloading jsonpatch-1.33-py2.py3-none-any.whl (12 kB)\n",
            "Downloading langchain_community-0.0.34-py3-none-any.whl (1.9 MB)\n",
            "   ---------------------------------------- 0.0/1.9 MB ? eta -:--:--\n",
            "   ----------- ---------------------------- 0.6/1.9 MB 11.8 MB/s eta 0:00:01\n",
            "   ---------------------- ----------------- 1.1/1.9 MB 13.9 MB/s eta 0:00:01\n",
            "   ------------------------------------- -- 1.8/1.9 MB 12.7 MB/s eta 0:00:01\n",
            "   ---------------------------------------- 1.9/1.9 MB 11.2 MB/s eta 0:00:00\n",
            "Downloading langchain_core-0.1.45-py3-none-any.whl (291 kB)\n",
            "   ---------------------------------------- 0.0/291.3 kB ? eta -:--:--\n",
            "   ---------------------------------------- 291.3/291.3 kB 9.1 MB/s eta 0:00:00\n",
            "Downloading langchain_text_splitters-0.0.1-py3-none-any.whl (21 kB)\n",
            "Downloading langsmith-0.1.49-py3-none-any.whl (115 kB)\n",
            "   ---------------------------------------- 0.0/115.2 kB ? eta -:--:--\n",
            "   ---------------------------------------- 115.2/115.2 kB ? eta 0:00:00\n",
            "Downloading pydantic-2.7.0-py3-none-any.whl (407 kB)\n",
            "   ---------------------------------------- 0.0/407.9 kB ? eta -:--:--\n",
            "   ---------------------------------------- 407.9/407.9 kB 8.5 MB/s eta 0:00:00\n",
            "Downloading pydantic_core-2.18.1-cp39-none-win_amd64.whl (1.9 MB)\n",
            "   ---------------------------------------- 0.0/1.9 MB ? eta -:--:--\n",
            "   ---------- ----------------------------- 0.5/1.9 MB 10.9 MB/s eta 0:00:01\n",
            "   --------------------- ------------------ 1.1/1.9 MB 11.2 MB/s eta 0:00:01\n",
            "   --------------------------------- ------ 1.6/1.9 MB 11.4 MB/s eta 0:00:01\n",
            "   ---------------------------------------- 1.9/1.9 MB 11.2 MB/s eta 0:00:00\n",
            "Downloading SQLAlchemy-2.0.29-cp39-cp39-win_amd64.whl (2.1 MB)\n",
            "   ---------------------------------------- 0.0/2.1 MB ? eta -:--:--\n",
            "   ----------- ---------------------------- 0.6/2.1 MB 12.6 MB/s eta 0:00:01\n",
            "   ---------------------- ----------------- 1.2/2.1 MB 12.3 MB/s eta 0:00:01\n",
            "   -------------------------------- ------- 1.7/2.1 MB 12.1 MB/s eta 0:00:01\n",
            "   ---------------------------------------- 2.1/2.1 MB 11.1 MB/s eta 0:00:00\n",
            "Downloading aiosignal-1.3.1-py3-none-any.whl (7.6 kB)\n",
            "Downloading annotated_types-0.6.0-py3-none-any.whl (12 kB)\n",
            "Downloading attrs-23.2.0-py3-none-any.whl (60 kB)\n",
            "   ---------------------------------------- 0.0/60.8 kB ? eta -:--:--\n",
            "   ---------------------------------------- 60.8/60.8 kB 3.2 MB/s eta 0:00:00\n",
            "Downloading frozenlist-1.4.1-cp39-cp39-win_amd64.whl (50 kB)\n",
            "   ---------------------------------------- 0.0/50.7 kB ? eta -:--:--\n",
            "   ---------------------------------------- 50.7/50.7 kB 2.7 MB/s eta 0:00:00\n",
            "Downloading greenlet-3.0.3-cp39-cp39-win_amd64.whl (290 kB)\n",
            "   ---------------------------------------- 0.0/290.8 kB ? eta -:--:--\n",
            "   ---------------------------------------- 290.8/290.8 kB 8.8 MB/s eta 0:00:00\n",
            "Downloading jsonpointer-2.4-py2.py3-none-any.whl (7.8 kB)\n",
            "Downloading marshmallow-3.21.1-py3-none-any.whl (49 kB)\n",
            "   ---------------------------------------- 0.0/49.4 kB ? eta -:--:--\n",
            "   ---------------------------------------- 49.4/49.4 kB 2.6 MB/s eta 0:00:00\n",
            "Downloading multidict-6.0.5-cp39-cp39-win_amd64.whl (28 kB)\n",
            "Downloading orjson-3.10.1-cp39-none-win_amd64.whl (138 kB)\n",
            "   ---------------------------------------- 0.0/138.9 kB ? eta -:--:--\n",
            "   ---------------------------------------- 138.9/138.9 kB 8.0 MB/s eta 0:00:00\n",
            "Downloading typing_inspect-0.9.0-py3-none-any.whl (8.8 kB)\n",
            "Downloading yarl-1.9.4-cp39-cp39-win_amd64.whl (76 kB)\n",
            "   ---------------------------------------- 0.0/76.9 kB ? eta -:--:--\n",
            "   ---------------------------------------- 76.9/76.9 kB 4.2 MB/s eta 0:00:00\n",
            "Downloading anyio-4.3.0-py3-none-any.whl (85 kB)\n",
            "   ---------------------------------------- 0.0/85.6 kB ? eta -:--:--\n",
            "   ---------------------------------------- 85.6/85.6 kB 4.7 MB/s eta 0:00:00\n",
            "Downloading sniffio-1.3.1-py3-none-any.whl (10 kB)\n",
            "Downloading h11-0.14.0-py3-none-any.whl (58 kB)\n",
            "   ---------------------------------------- 0.0/58.3 kB ? eta -:--:--\n",
            "   ---------------------------------------- 58.3/58.3 kB ? eta 0:00:00\n",
            "Downloading mypy_extensions-1.0.0-py3-none-any.whl (4.7 kB)\n",
            "Installing collected packages: sniffio, pydantic-core, orjson, mypy-extensions, multidict, marshmallow, jsonpointer, h11, greenlet, frozenlist, attrs, async-timeout, annotated-types, yarl, typing-inspect, SQLAlchemy, pydantic, jsonpatch, httpcore, anyio, aiosignal, langsmith, httpx, dataclasses-json, aiohttp, replicate, langchain-core, langchain-text-splitters, langchain-community, langchain\n",
            "Successfully installed SQLAlchemy-2.0.29 aiohttp-3.9.5 aiosignal-1.3.1 annotated-types-0.6.0 anyio-4.3.0 async-timeout-4.0.3 attrs-23.2.0 dataclasses-json-0.6.4 frozenlist-1.4.1 greenlet-3.0.3 h11-0.14.0 httpcore-1.0.5 httpx-0.27.0 jsonpatch-1.33 jsonpointer-2.4 langchain-0.1.16 langchain-community-0.0.34 langchain-core-0.1.45 langchain-text-splitters-0.0.1 langsmith-0.1.49 marshmallow-3.21.1 multidict-6.0.5 mypy-extensions-1.0.0 orjson-3.10.1 pydantic-2.7.0 pydantic-core-2.18.1 replicate-0.25.2 sniffio-1.3.1 typing-inspect-0.9.0 yarl-1.9.4\n"
          ]
        }
      ],
      "source": [
        "!pip install langchain replicate"
      ]
    },
    {
      "cell_type": "markdown",
      "metadata": {
        "id": "8VPUKlrB3IWN"
      },
      "source": [
        "Get a free API key from\n",
        "https://replicate.com/account/api-tokens"
      ]
    },
    {
      "cell_type": "code",
      "execution_count": 4,
      "metadata": {},
      "outputs": [
        {
          "name": "stdout",
          "output_type": "stream",
          "text": [
            "r8_6qozFGfh5gVlzuAnfrAEsG16QvxVuKI1yqlpS\n"
          ]
        }
      ],
      "source": [
        "import os\n",
        "\n",
        "# Define the path to the text file, assuming it's two folders up from the current directory\n",
        "text_file_path = os.path.abspath(os.path.join(os.getcwd(), '..', '..', 'replicate key.txt'))\n",
        "\n",
        "# Open the text file\n",
        "try:\n",
        "    with open(text_file_path, 'r') as file:\n",
        "        # Do something with the file, for example, read its contents\n",
        "        replicate_key = file.read()\n",
        "        print(file_contents)\n",
        "except FileNotFoundError:\n",
        "    print(\"The text file does not exist in the specified location.\")\n",
        "except Exception as e:\n",
        "    print(\"An error occurred:\", e)\n"
      ]
    },
    {
      "cell_type": "code",
      "execution_count": 5,
      "metadata": {
        "id": "lb1MfD5a3RJP"
      },
      "outputs": [],
      "source": [
        "YOUR_KEY_HERE = replicate_key"
      ]
    },
    {
      "cell_type": "code",
      "execution_count": 6,
      "metadata": {
        "id": "CyZdS6_n3A8Z"
      },
      "outputs": [],
      "source": [
        "from typing import Dict, List\n",
        "from langchain.llms import Replicate\n",
        "from langchain.memory import ChatMessageHistory\n",
        "from langchain.schema.messages import get_buffer_string\n",
        "import os\n",
        "\n",
        "os.environ[\"REPLICATE_API_TOKEN\"] = YOUR_KEY_HERE"
      ]
    },
    {
      "cell_type": "code",
      "execution_count": 7,
      "metadata": {
        "id": "WMN4Lfuz310b"
      },
      "outputs": [],
      "source": [
        "LLAMA2_13B_CHAT = \"meta/llama-2-13b-chat:f4e2de70d66816a838a89eeeb621910adffb0dd0baba3976c96980970978018d\""
      ]
    },
    {
      "cell_type": "markdown",
      "metadata": {
        "id": "1qb5KM5E4yCX"
      },
      "source": [
        "Other models can be found here: https://replicate.com/meta"
      ]
    },
    {
      "cell_type": "markdown",
      "metadata": {
        "id": "OYAHFpA25Xg1"
      },
      "source": [
        "# Parameters\n",
        "\n",
        "**prompt** – (required) the prompt that you want to pass to the model.\n",
        "\n",
        "**temperature**  controls randomness. Higher temperature makes outputs more random and diverse. Lower temperature produces more stable and repetitive completions. A temperature of zero effectively disables random sampling and makes the completions deterministic.\n",
        "\n",
        "**top-p** is the cumulative probability cutoff for token selection, i.e. the percentile of probability from which tokens are sampled. Lower values mean sampling from a smaller set of more top-weighted tokens. Lower top-p values reduce diversity and focus on more probable tokens. A value lower than 1.0 means that only the corresponding top percentile of options are considered, and that less likely options will not be generated, resulting in more stable and repetitive completions.\n",
        "\n",
        "**top-k** samples from the k most likely next tokens at each step. Lower k focuses on higher probability tokens.\n",
        "\n",
        "**max_new_tokens** specifies the maximum number of tokens to use in the generated response. The model truncates the response once the generated text exceeds max_new_tokens.\n",
        "\n",
        "#Roles\n",
        "**System**'s  messages are used to provide core instruction to the LLM.\n",
        "\n",
        "**User**'s messages are human-provided messages.\n",
        "\n",
        "**Assistant**'s messages are generated by the LLM."
      ]
    },
    {
      "cell_type": "code",
      "execution_count": 12,
      "metadata": {
        "id": "JRvLWMzI496Y"
      },
      "outputs": [],
      "source": [
        "DEFAULT_MODEL = LLAMA2_13B_CHAT\n",
        "\n",
        "def completion(\n",
        "    prompt: str,\n",
        "    model: str = DEFAULT_MODEL,\n",
        "    temperature: float = 0.6,\n",
        "    top_p: float = 0.9,\n",
        ") -> str:\n",
        "    llm = Replicate(\n",
        "        model=model,\n",
        "        model_kwargs={\"temperature\": temperature,\"top_p\": top_p, \"max_new_tokens\": 1000}\n",
        "    )\n",
        "    return llm(prompt)\n",
        "\n",
        "def chat_completion(\n",
        "    messages: List[Dict],\n",
        "    model = DEFAULT_MODEL,\n",
        "    temperature: float = 0.6,\n",
        "    top_p: float = 0.9,\n",
        ") -> str:\n",
        "    history = ChatMessageHistory()\n",
        "    for message in messages:\n",
        "        if message[\"role\"] == \"user\":\n",
        "            history.add_user_message(message[\"content\"])\n",
        "        elif message[\"role\"] == \"assistant\":\n",
        "            history.add_ai_message(message[\"content\"])\n",
        "        else:\n",
        "            raise Exception(\"Unknown role\")\n",
        "    return completion(\n",
        "        get_buffer_string(\n",
        "            history.messages,\n",
        "            human_prefix=\"USER\",\n",
        "            ai_prefix=\"ASSISTANT\",\n",
        "        ),\n",
        "        model,\n",
        "        temperature,\n",
        "        top_p,\n",
        "    )\n",
        "\n",
        "def assistant(content: str):\n",
        "    return { \"role\": \"assistant\", \"content\": content }\n",
        "\n",
        "def user(content: str):\n",
        "    return { \"role\": \"user\", \"content\": content }\n",
        "\n",
        "def complete_and_print(prompt: str, model: str = DEFAULT_MODEL):\n",
        "    print(f'==============\\n{prompt}\\n==============')\n",
        "    response = completion(prompt, model)\n",
        "    print(response, end='\\n\\n')"
      ]
    },
    {
      "cell_type": "code",
      "execution_count": 11,
      "metadata": {
        "colab": {
          "base_uri": "https://localhost:8080/"
        },
        "id": "5E-VuUx19XUY",
        "outputId": "e187d3ea-28c4-4fc9-afdc-ece45d49d5fa"
      },
      "outputs": [
        {
          "name": "stdout",
          "output_type": "stream",
          "text": [
            "==============\n",
            "What is the transformer AI architecture?\n",
            "==============\n",
            " Hello! I'd be happy to help you understand the Transformer AI architecture.\n",
            "\n",
            "The Transformer architecture is a type of neural network designed primarily for natural language processing tasks, such as machine translation, question answering, and text classification. It was introduced in a paper by Vaswani et al. in 2017 and has since become one of the most widely used architectures in the field.\n",
            "\n",
            "The key innovation of the Transformer is the self-attention mechanism, which allows the model to attend to different parts of the input sequence simultaneously and weigh their importance. This is in contrast to traditional recurrent neural networks (RNNs), which process the input sequence sequentially and have recurrence connections that allow them to capture long-range dependencies.\n",
            "\n",
            "The Transformer architecture consists of an encoder and a decoder. The encoder takes in a sequence of words or tokens and outputs a continuous representation of the input text. The decoder then generates the output text, one word at a time, based on the encoding produced by the encoder.\n",
            "\n",
            "Here are some key components of the Transformer architecture:\n",
            "\n",
            "1. Self-Attention Mechanism: As mentioned earlier, the self-attention mechanism allows the model to attend to different parts of the input sequence simultaneously and weigh their importance. This is done by computing a weighted sum of the input values, where the weights are learned during training.\n",
            "2. Multi-Head Attention: The self-attention mechanism is applied multiple times in parallel, with different sets of learnable weights. This is known as multi-head attention, and it helps the model capture different types of relationships between different parts of the input sequence.\n",
            "3. Positional Encoding: To preserve the order of the input sequence, positional encoding is added to the input embeddings. This encoding provides the model with information about the relative positions of the input elements.\n",
            "4. Encoder-Decoder Structure: The Transformer architecture consists of an encoder and a decoder. The encoder takes in a sequence of words or tokens and outputs a continuous representation of the input text. The decoder then generates the output text, one word at a time, based on the encoding produced by the encoder.\n",
            "5. Linear Layers and ReLU Activation Functions: The Transformer architecture uses linear layers and ReLU activation functions to transform the input data and introduce non-linearity into the model.\n",
            "\n",
            "Overall, the Transformer architecture has revolutionized the field of natural language processing, providing a powerful and efficient way to process long sequences of text. Its ability to handle variable-length input sequences and its parallelization capabilities have made it particularly well-suited for large-scale machine learning tasks.\n",
            "\n"
          ]
        }
      ],
      "source": [
        "complete_and_print(\"What is the transformer AI architecture?\")"
      ]
    },
    {
      "cell_type": "code",
      "execution_count": null,
      "metadata": {
        "colab": {
          "base_uri": "https://localhost:8080/"
        },
        "id": "_HgX9DP19liu",
        "outputId": "91c75dc0-8636-499a-c28f-efbb2fa70e54"
      },
      "outputs": [
        {
          "name": "stdout",
          "output_type": "stream",
          "text": [
            "==============\n",
            "What is the transformer AI architecture? Please answer in one sentence.\n",
            "==============\n",
            " The Transformer architecture is a type of neural network designed for natural language processing tasks, characterized by self-attention mechanisms and parallelization across input sequences, allowing it to efficiently process long input sequences and handle complex contextual relationships.\n",
            "\n"
          ]
        }
      ],
      "source": [
        "complete_and_print(\"What is the transformer AI architecture? Please answer in one sentence.\")"
      ]
    },
    {
      "cell_type": "code",
      "execution_count": null,
      "metadata": {
        "colab": {
          "base_uri": "https://localhost:8080/"
        },
        "id": "oXOsODqd-eyZ",
        "outputId": "048b19a2-bb05-403f-be9e-9da213bfddf4"
      },
      "outputs": [
        {
          "name": "stdout",
          "output_type": "stream",
          "text": [
            "==============\n",
            "What is API in computer science? Please answer in one sentence.\n",
            "==============\n",
            " Sure, I'd be happy to help! In computer science, an Application Programming Interface (API) is a set of rules and protocols that allows different software systems to communicate with each other and exchange data, much like how a messenger delivers messages between two parties.\n",
            "\n"
          ]
        }
      ],
      "source": [
        "complete_and_print(\"What is API in computer science? Please answer in one sentence.\")"
      ]
    },
    {
      "cell_type": "code",
      "execution_count": null,
      "metadata": {
        "colab": {
          "base_uri": "https://localhost:8080/"
        },
        "id": "5EfmOS8iB9np",
        "outputId": "c4e26fb9-614d-4c8c-9231-1bdb1742bcb2"
      },
      "outputs": [
        {
          "name": "stdout",
          "output_type": "stream",
          "text": [
            " ASSISTANT: Ah, you're looking for information about the University of Brittany Occidental (UBO), located in Brest, which is part of the Academy of Rennes. Well, let me check my maps... (checks map) Oh, I see! UBO is situated in the beautiful city of Brest, which is located in the western part of France, specifically in the region of Brittany. It's a lovely coastal city with a rich history and culture, known for its picturesque harbor and delicious seafood. The university is easily accessible by car or train, and it's just a short walk from the city center. Is there anything else you'd like to know about UBO or Brest?\n"
          ]
        }
      ],
      "source": [
        "response = chat_completion(messages=[\n",
        "    user(\"UBO is a French university, located in Brest, in the Academy of Rennes. \"),\n",
        "    assistant(\"That's great to hear!\"),\n",
        "    user(\"What is the location of UBO?\"),\n",
        "])\n",
        "print(response)"
      ]
    },
    {
      "cell_type": "markdown",
      "metadata": {
        "id": "b0RLUPFpCtLp"
      },
      "source": [
        "# Different prompting techniques\n",
        "\n",
        "These prompting techniques are valid for any LLM-bsed chat (ChatGPT, LLAMA Chat, Jurrasic-2 Chat, Gemini,...).\n",
        "\n",
        "For more information see: https://github.com/meta-llama/llama-recipes/blob/main/recipes/quickstart/Prompt_Engineering_with_Llama_2.ipynb\n",
        "\n",
        "\n",
        "## 1. Explicit Instructions\n",
        "\n",
        "\n",
        "*   Stylization (Explain Like I'm Five)\n",
        "*   Format (json, bulleted list)\n",
        "*   Restrictions (only ...)\n",
        "\n",
        "\n",
        "\n",
        "\n"
      ]
    },
    {
      "cell_type": "markdown",
      "metadata": {
        "id": "SrFQyb8ZFsY5"
      },
      "source": [
        "## 2. Zero-Shot Prompting\n",
        "Generate answer without giving examples\n",
        "\n"
      ]
    },
    {
      "cell_type": "code",
      "execution_count": null,
      "metadata": {
        "colab": {
          "base_uri": "https://localhost:8080/"
        },
        "id": "doDIBiWmE315",
        "outputId": "984fcf33-9131-41c7-d66f-61b5ffe471a8"
      },
      "outputs": [
        {
          "name": "stdout",
          "output_type": "stream",
          "text": [
            "==============\n",
            "Text: Old professors never die they just loose their universities. \n",
            " Does this texts contain a pun?\n",
            "==============\n",
            " Ah, you've provided me with a clever text that indeed contains a pun! \"Old professors never die, they just lose their universities\" is a playful take on the phrase \"old soldiers never die,\" but repurposed to fit the context of aging academics and their institutions. The wordplay lies in the double meaning of \"lose\": both as a verb (to misplace or be defeated) and as a noun (a university). Well done, my young apprentice!\n",
            "\n"
          ]
        }
      ],
      "source": [
        "complete_and_print(\"Text: Old professors never die they just loose their universities. \\n Does this texts contain a pun?\")"
      ]
    },
    {
      "cell_type": "markdown",
      "metadata": {
        "id": "zp7nuOHXFykK"
      },
      "source": [
        "## 3. Few-Shot Prompting"
      ]
    },
    {
      "cell_type": "code",
      "execution_count": null,
      "metadata": {
        "colab": {
          "base_uri": "https://localhost:8080/"
        },
        "id": "NDNJ4h19G5D9",
        "outputId": "209eb449-4eb5-46a9-da6c-6b4f90b66ad9"
      },
      "outputs": [
        {
          "name": "stdout",
          "output_type": "stream",
          "text": [
            "INPUT: Old professors never die they just loose their universities.\n",
            " ASSISTANT: Pun\n"
          ]
        }
      ],
      "source": [
        "def is_pun(text):\n",
        "    response = chat_completion(messages=[\n",
        "        user(\"You are a joke classifier. For each message, indicate if it contains a pun.\"),\n",
        "        user(\"She was suspected of stealing a brooch but they couldn't pin it on her.\"),\n",
        "        assistant(\"Pun\"),\n",
        "        user(\"An apple a day keeps the doctor away\"),\n",
        "        assistant(\"Not pun\"),\n",
        "        user(\"The inept mathematician couldn't count on his friends.\"),\n",
        "        assistant(\"Pun\"),\n",
        "        user(text),\n",
        "    ])\n",
        "    return response\n",
        "\n",
        "def print_is_pun(text):\n",
        "    print(f'INPUT: {text}')\n",
        "    print(is_pun(text))\n",
        "\n",
        "print_is_pun(\"Old professors never die they just loose their universities.\")"
      ]
    },
    {
      "cell_type": "markdown",
      "metadata": {
        "id": "4yaLvufVGFQE"
      },
      "source": [
        "## 4. Role Prompting"
      ]
    },
    {
      "cell_type": "code",
      "execution_count": null,
      "metadata": {
        "colab": {
          "base_uri": "https://localhost:8080/"
        },
        "id": "Q2kvGIyNHJC-",
        "outputId": "779de7e1-2eba-4ea4-e315-48e982a812c6"
      },
      "outputs": [
        {
          "name": "stdout",
          "output_type": "stream",
          "text": [
            "==============\n",
            "Your role is a professor who explains highly technical concepts in a very difficult way. Explain what is LLM. Please be less quirky.\n",
            "==============\n",
            " Greetings, my dear student! Today, we shall embark on a fascinating journey through the realm of machine learning, specifically discussing the concept of Language Model (LLM). Prepare thyself for an intellectual odyssey that may challenge thy cognitive abilities, but fear not, for I shall guide thee with patience and clarity.\n",
            "\n",
            "LLM, or Language Model, refers to a computational framework designed to process and analyze human language. This encompasses various aspects, such as grammar, syntax, semantics, and pragmatics. The primary objective of LLM is to enable machines to comprehend and generate human-like language, thereby facilitating seamless communication between humans and machines.\n",
            "\n",
            "To achieve this goal, LLM employs sophisticated algorithms and techniques from natural language processing (NLP), including deep learning methods like recurrent neural networks (RNNs) and transformer architectures. These methodologies allow LLM to learn patterns and relationships within vast amounts of text data, thereby improving its proficiency in understanding and generating human language.\n",
            "\n",
            "The applications of LLM are diverse and far-reaching. For instance, LLM can be utilized in chatbots, virtual assistants, and other conversational AI systems, allowing them to engage in more natural and productive interactions with humans. Additionally, LLM can enhance language translation software, enabling more accurate and contextually appropriate translations.\n",
            "\n",
            "In conclusion, my erudite student, LLM represents a remarkable milestone in the evolution of artificial intelligence and natural language processing. As we continue to refine and expand our understanding of this technology, we may unlock even more innovative applications and possibilities, further blurring the boundaries between humans and machines.\n",
            "\n"
          ]
        }
      ],
      "source": [
        "complete_and_print(\"Your role is a professor who explains highly technical concepts in a very difficult way. Explain what is LLM. Please be less quirky.\")"
      ]
    },
    {
      "cell_type": "markdown",
      "metadata": {
        "id": "xLVQ-9SSIgLh"
      },
      "source": [
        "## 5. Chain-of-Thought\n",
        "\n",
        "\n",
        "1.   Break Down Your Question\n",
        "2.   Be Specific, Include Context\n",
        "3.   Give feedback\n",
        "\n",
        "### Different Ways to Use Chain of Thought Prompting\n",
        "\n",
        "\n",
        "1.   Start general, then dive into specifics\n",
        "2.   Comparative Prompting (contrast things)\n",
        "3. Thought Process Prompting\n",
        "  *   \"..., think step by step\"\n",
        "  *   \"..., thinking aloud\"\n",
        "  *   \"..., explain your thoughts\"\n",
        "4.  Ask for a sequence or progression\n",
        "\n",
        "\n",
        "\n"
      ]
    },
    {
      "cell_type": "markdown",
      "metadata": {
        "id": "J2Ccrr0ZPW6R"
      },
      "source": [
        "# Applying LLM to a Pandas DataFrame\n",
        "Source: https://drive.google.com/file/d/1PMmHCXnU5pSO0v1stMwjipwbD7TswOrr/view?usp=drive_link\n",
        "\n"
      ]
    },
    {
      "cell_type": "code",
      "execution_count": 13,
      "metadata": {
        "id": "1IJ5sSNHQV7c"
      },
      "outputs": [],
      "source": [
        "import pandas as pd"
      ]
    },
    {
      "cell_type": "code",
      "execution_count": 22,
      "metadata": {
        "colab": {
          "base_uri": "https://localhost:8080/",
          "height": 562
        },
        "id": "X-TKwogBQT2y",
        "outputId": "ea387946-e4c0-4988-ccf2-a8fa82c77a96"
      },
      "outputs": [
        {
          "data": {
            "text/html": [
              "<div>\n",
              "<style scoped>\n",
              "    .dataframe tbody tr th:only-of-type {\n",
              "        vertical-align: middle;\n",
              "    }\n",
              "\n",
              "    .dataframe tbody tr th {\n",
              "        vertical-align: top;\n",
              "    }\n",
              "\n",
              "    .dataframe thead th {\n",
              "        text-align: right;\n",
              "    }\n",
              "</style>\n",
              "<table border=\"1\" class=\"dataframe\">\n",
              "  <thead>\n",
              "    <tr style=\"text-align: right;\">\n",
              "      <th></th>\n",
              "      <th>query_id</th>\n",
              "      <th>query_text</th>\n",
              "      <th>doc_id</th>\n",
              "      <th>snt_id</th>\n",
              "      <th>source_snt</th>\n",
              "    </tr>\n",
              "  </thead>\n",
              "  <tbody>\n",
              "    <tr>\n",
              "      <th>0</th>\n",
              "      <td>G11.1</td>\n",
              "      <td>drones</td>\n",
              "      <td>2892036907</td>\n",
              "      <td>G11.1_2892036907_1</td>\n",
              "      <td>In the modern era of automation and robotics, ...</td>\n",
              "    </tr>\n",
              "    <tr>\n",
              "      <th>1</th>\n",
              "      <td>G11.1</td>\n",
              "      <td>drones</td>\n",
              "      <td>2892036907</td>\n",
              "      <td>G11.1_2892036907_2</td>\n",
              "      <td>With the ever increasing number of unmanned ae...</td>\n",
              "    </tr>\n",
              "    <tr>\n",
              "      <th>2</th>\n",
              "      <td>G11.1</td>\n",
              "      <td>drones</td>\n",
              "      <td>2892036907</td>\n",
              "      <td>G11.1_2892036907_3</td>\n",
              "      <td>Due to guidelines set by the governments regar...</td>\n",
              "    </tr>\n",
              "    <tr>\n",
              "      <th>3</th>\n",
              "      <td>G11.1</td>\n",
              "      <td>drones</td>\n",
              "      <td>2892036907</td>\n",
              "      <td>G11.1_2892036907_4</td>\n",
              "      <td>In an attempt to achieve the above mentioned t...</td>\n",
              "    </tr>\n",
              "    <tr>\n",
              "      <th>4</th>\n",
              "      <td>G11.1</td>\n",
              "      <td>drones</td>\n",
              "      <td>2892036907</td>\n",
              "      <td>G11.1_2892036907_5</td>\n",
              "      <td>Derived from the classic image classification ...</td>\n",
              "    </tr>\n",
              "    <tr>\n",
              "      <th>...</th>\n",
              "      <td>...</td>\n",
              "      <td>...</td>\n",
              "      <td>...</td>\n",
              "      <td>...</td>\n",
              "      <td>...</td>\n",
              "    </tr>\n",
              "    <tr>\n",
              "      <th>643</th>\n",
              "      <td>M9</td>\n",
              "      <td>Mechanisms of Muscle Hypertrophy</td>\n",
              "      <td>41</td>\n",
              "      <td>M9_41_3</td>\n",
              "      <td>Bodybuilders generally train with moderate loa...</td>\n",
              "    </tr>\n",
              "    <tr>\n",
              "      <th>644</th>\n",
              "      <td>M9</td>\n",
              "      <td>Mechanisms of Muscle Hypertrophy</td>\n",
              "      <td>41</td>\n",
              "      <td>M9_41_4</td>\n",
              "      <td>Powerlifters, on the other hand, routinely tra...</td>\n",
              "    </tr>\n",
              "    <tr>\n",
              "      <th>645</th>\n",
              "      <td>M9</td>\n",
              "      <td>Mechanisms of Muscle Hypertrophy</td>\n",
              "      <td>41</td>\n",
              "      <td>M9_41_5</td>\n",
              "      <td>Although both groups are known to display impr...</td>\n",
              "    </tr>\n",
              "    <tr>\n",
              "      <th>646</th>\n",
              "      <td>M9</td>\n",
              "      <td>Mechanisms of Muscle Hypertrophy</td>\n",
              "      <td>41</td>\n",
              "      <td>M9_41_6</td>\n",
              "      <td>It has been shown that many factors mediate th...</td>\n",
              "    </tr>\n",
              "    <tr>\n",
              "      <th>647</th>\n",
              "      <td>M9</td>\n",
              "      <td>Mechanisms of Muscle Hypertrophy</td>\n",
              "      <td>41</td>\n",
              "      <td>M9_41_7</td>\n",
              "      <td>Therefore, the purpose of this paper is twofol...</td>\n",
              "    </tr>\n",
              "  </tbody>\n",
              "</table>\n",
              "<p>648 rows × 5 columns</p>\n",
              "</div>"
            ],
            "text/plain": [
              "    query_id                        query_text      doc_id  \\\n",
              "0      G11.1                            drones  2892036907   \n",
              "1      G11.1                            drones  2892036907   \n",
              "2      G11.1                            drones  2892036907   \n",
              "3      G11.1                            drones  2892036907   \n",
              "4      G11.1                            drones  2892036907   \n",
              "..       ...                               ...         ...   \n",
              "643       M9  Mechanisms of Muscle Hypertrophy          41   \n",
              "644       M9  Mechanisms of Muscle Hypertrophy          41   \n",
              "645       M9  Mechanisms of Muscle Hypertrophy          41   \n",
              "646       M9  Mechanisms of Muscle Hypertrophy          41   \n",
              "647       M9  Mechanisms of Muscle Hypertrophy          41   \n",
              "\n",
              "                 snt_id                                         source_snt  \n",
              "0    G11.1_2892036907_1  In the modern era of automation and robotics, ...  \n",
              "1    G11.1_2892036907_2  With the ever increasing number of unmanned ae...  \n",
              "2    G11.1_2892036907_3  Due to guidelines set by the governments regar...  \n",
              "3    G11.1_2892036907_4  In an attempt to achieve the above mentioned t...  \n",
              "4    G11.1_2892036907_5  Derived from the classic image classification ...  \n",
              "..                  ...                                                ...  \n",
              "643             M9_41_3  Bodybuilders generally train with moderate loa...  \n",
              "644             M9_41_4  Powerlifters, on the other hand, routinely tra...  \n",
              "645             M9_41_5  Although both groups are known to display impr...  \n",
              "646             M9_41_6  It has been shown that many factors mediate th...  \n",
              "647             M9_41_7  Therefore, the purpose of this paper is twofol...  \n",
              "\n",
              "[648 rows x 5 columns]"
            ]
          },
          "execution_count": 22,
          "metadata": {},
          "output_type": "execute_result"
        }
      ],
      "source": [
        "train=pd.read_json('../../various data/simpletext_task3_train.json')\n",
        "train\n"
      ]
    },
    {
      "cell_type": "code",
      "execution_count": 23,
      "metadata": {
        "id": "kNBYZkPjQs_Y"
      },
      "outputs": [],
      "source": [
        "prompt_simplification=\"\"\"\n",
        "    You are a robot that only outputs JSON.\n",
        "    You reply in JSON format with the field 'simplification'.\n",
        "    You provide a simplification of a source sentence only.\n",
        "    You do not add 'Sure! Here\\'s the simplification of your sentence:' nor additional spaces nor new lines.\n",
        "    Example source sentence: In the modern era of automation and robotics, \\\n",
        "    autonomous vehicles are currently the focus of academic and industrial research.? \\\n",
        "    Example answer: {'simplification': 'Current academic and industrial research is interested in autonomous vehicles.'}\n",
        "    Now here is my sentence:\n",
        "\"\"\""
      ]
    },
    {
      "cell_type": "code",
      "execution_count": 27,
      "metadata": {
        "colab": {
          "base_uri": "https://localhost:8080/",
          "height": 35
        },
        "id": "ZmaOmOn4VsZO",
        "outputId": "563a1951-f4e4-4d76-961a-211a7d3a2810"
      },
      "outputs": [
        {
          "name": "stdout",
          "output_type": "stream",
          "text": [
            "\n",
            "    You are a robot that only outputs JSON.\n",
            "    You reply in JSON format with the field 'simplification'.\n",
            "    You provide a simplification of a source sentence only.\n",
            "    You do not add 'Sure! Here's the simplification of your sentence:' nor additional spaces nor new lines.\n",
            "    Example source sentence: In the modern era of automation and robotics,     autonomous vehicles are currently the focus of academic and industrial research.?     Example answer: {'simplification': 'Current academic and industrial research is interested in autonomous vehicles.'}\n",
            "    Now here is my sentence:\n",
            "In the modern era of automation and robotics, autonomous vehicles are currently the focus of academic and industrial research.\n",
            "\n"
          ]
        },
        {
          "data": {
            "text/plain": [
              "' { \"simplification\": \"Research is focused on autonomous vehicles.\" }'"
            ]
          },
          "execution_count": 27,
          "metadata": {},
          "output_type": "execute_result"
        }
      ],
      "source": [
        "c=completion(prompt_simplification+train['source_snt'][0])\n",
        "print(prompt_simplification+train['source_snt'][0])\n",
        "c"
      ]
    },
    {
      "cell_type": "code",
      "execution_count": 25,
      "metadata": {
        "colab": {
          "base_uri": "https://localhost:8080/"
        },
        "id": "PjnfxljjVtmJ",
        "outputId": "e65a5020-bd0d-4991-eb74-e4a33ad30353"
      },
      "outputs": [
        {
          "data": {
            "text/plain": [
              "{'simplification': 'Research is focused on autonomous vehicles.'}"
            ]
          },
          "execution_count": 25,
          "metadata": {},
          "output_type": "execute_result"
        }
      ],
      "source": [
        "import json\n",
        "tt=json.loads(completion(prompt_simplification+train['source_snt'][0]))\n",
        "tt"
      ]
    },
    {
      "cell_type": "code",
      "execution_count": null,
      "metadata": {
        "colab": {
          "base_uri": "https://localhost:8080/",
          "height": 35
        },
        "id": "QL9qS-K4oQYD",
        "outputId": "0ee4fd22-be4e-4103-ea58-787300a691d7"
      },
      "outputs": [
        {
          "data": {
            "application/vnd.google.colaboratory.intrinsic+json": {
              "type": "string"
            },
            "text/plain": [
              "'Research is focused on autonomous vehicles.'"
            ]
          },
          "execution_count": 36,
          "metadata": {},
          "output_type": "execute_result"
        }
      ],
      "source": [
        "tt['simplification']"
      ]
    },
    {
      "cell_type": "code",
      "execution_count": null,
      "metadata": {
        "colab": {
          "base_uri": "https://localhost:8080/",
          "height": 52
        },
        "id": "9qJjcF_glKo3",
        "outputId": "33e6cc5e-b012-4b1a-9830-15a117a31acc"
      },
      "outputs": [
        {
          "data": {
            "application/vnd.google.colaboratory.intrinsic+json": {
              "type": "string"
            },
            "text/plain": [
              "'There is a growing need for autonomy in unmanned aerial vehicles (UAVs) as they become more prevalent in civilian and commercial activities.'"
            ]
          },
          "execution_count": 25,
          "metadata": {},
          "output_type": "execute_result"
        }
      ],
      "source": [
        "json.loads(completion(prompt_simplification+train['source_snt'][1]))['simplification']"
      ]
    },
    {
      "cell_type": "code",
      "execution_count": 28,
      "metadata": {
        "id": "N4KJTMReVJ1L"
      },
      "outputs": [],
      "source": [
        "train=train.head(5)"
      ]
    },
    {
      "cell_type": "code",
      "execution_count": 29,
      "metadata": {
        "colab": {
          "base_uri": "https://localhost:8080/",
          "height": 293
        },
        "id": "TjhEAnghlox7",
        "outputId": "d34df1c8-f7b4-4fac-ee7f-e75f957bb434"
      },
      "outputs": [
        {
          "data": {
            "text/html": [
              "<div>\n",
              "<style scoped>\n",
              "    .dataframe tbody tr th:only-of-type {\n",
              "        vertical-align: middle;\n",
              "    }\n",
              "\n",
              "    .dataframe tbody tr th {\n",
              "        vertical-align: top;\n",
              "    }\n",
              "\n",
              "    .dataframe thead th {\n",
              "        text-align: right;\n",
              "    }\n",
              "</style>\n",
              "<table border=\"1\" class=\"dataframe\">\n",
              "  <thead>\n",
              "    <tr style=\"text-align: right;\">\n",
              "      <th></th>\n",
              "      <th>query_id</th>\n",
              "      <th>query_text</th>\n",
              "      <th>doc_id</th>\n",
              "      <th>snt_id</th>\n",
              "      <th>source_snt</th>\n",
              "    </tr>\n",
              "  </thead>\n",
              "  <tbody>\n",
              "    <tr>\n",
              "      <th>0</th>\n",
              "      <td>G11.1</td>\n",
              "      <td>drones</td>\n",
              "      <td>2892036907</td>\n",
              "      <td>G11.1_2892036907_1</td>\n",
              "      <td>In the modern era of automation and robotics, ...</td>\n",
              "    </tr>\n",
              "    <tr>\n",
              "      <th>1</th>\n",
              "      <td>G11.1</td>\n",
              "      <td>drones</td>\n",
              "      <td>2892036907</td>\n",
              "      <td>G11.1_2892036907_2</td>\n",
              "      <td>With the ever increasing number of unmanned ae...</td>\n",
              "    </tr>\n",
              "    <tr>\n",
              "      <th>2</th>\n",
              "      <td>G11.1</td>\n",
              "      <td>drones</td>\n",
              "      <td>2892036907</td>\n",
              "      <td>G11.1_2892036907_3</td>\n",
              "      <td>Due to guidelines set by the governments regar...</td>\n",
              "    </tr>\n",
              "    <tr>\n",
              "      <th>3</th>\n",
              "      <td>G11.1</td>\n",
              "      <td>drones</td>\n",
              "      <td>2892036907</td>\n",
              "      <td>G11.1_2892036907_4</td>\n",
              "      <td>In an attempt to achieve the above mentioned t...</td>\n",
              "    </tr>\n",
              "    <tr>\n",
              "      <th>4</th>\n",
              "      <td>G11.1</td>\n",
              "      <td>drones</td>\n",
              "      <td>2892036907</td>\n",
              "      <td>G11.1_2892036907_5</td>\n",
              "      <td>Derived from the classic image classification ...</td>\n",
              "    </tr>\n",
              "  </tbody>\n",
              "</table>\n",
              "</div>"
            ],
            "text/plain": [
              "  query_id query_text      doc_id              snt_id  \\\n",
              "0    G11.1     drones  2892036907  G11.1_2892036907_1   \n",
              "1    G11.1     drones  2892036907  G11.1_2892036907_2   \n",
              "2    G11.1     drones  2892036907  G11.1_2892036907_3   \n",
              "3    G11.1     drones  2892036907  G11.1_2892036907_4   \n",
              "4    G11.1     drones  2892036907  G11.1_2892036907_5   \n",
              "\n",
              "                                          source_snt  \n",
              "0  In the modern era of automation and robotics, ...  \n",
              "1  With the ever increasing number of unmanned ae...  \n",
              "2  Due to guidelines set by the governments regar...  \n",
              "3  In an attempt to achieve the above mentioned t...  \n",
              "4  Derived from the classic image classification ...  "
            ]
          },
          "execution_count": 29,
          "metadata": {},
          "output_type": "execute_result"
        }
      ],
      "source": [
        "train"
      ]
    },
    {
      "cell_type": "code",
      "execution_count": 30,
      "metadata": {
        "colab": {
          "base_uri": "https://localhost:8080/",
          "height": 417
        },
        "id": "XDqv_fzPVOfE",
        "outputId": "bee5f638-4616-44ff-b6e0-cd20ea740570"
      },
      "outputs": [
        {
          "name": "stderr",
          "output_type": "stream",
          "text": [
            "C:\\Users\\Master\\AppData\\Local\\Temp\\ipykernel_18884\\3892787995.py:1: SettingWithCopyWarning: \n",
            "A value is trying to be set on a copy of a slice from a DataFrame.\n",
            "Try using .loc[row_indexer,col_indexer] = value instead\n",
            "\n",
            "See the caveats in the documentation: https://pandas.pydata.org/pandas-docs/stable/user_guide/indexing.html#returning-a-view-versus-a-copy\n",
            "  train['simplification']=train[\"source_snt\"].apply(lambda x:json.loads(completion(prompt_simplification+x))['simplification'])\n"
          ]
        },
        {
          "data": {
            "text/html": [
              "<div>\n",
              "<style scoped>\n",
              "    .dataframe tbody tr th:only-of-type {\n",
              "        vertical-align: middle;\n",
              "    }\n",
              "\n",
              "    .dataframe tbody tr th {\n",
              "        vertical-align: top;\n",
              "    }\n",
              "\n",
              "    .dataframe thead th {\n",
              "        text-align: right;\n",
              "    }\n",
              "</style>\n",
              "<table border=\"1\" class=\"dataframe\">\n",
              "  <thead>\n",
              "    <tr style=\"text-align: right;\">\n",
              "      <th></th>\n",
              "      <th>query_id</th>\n",
              "      <th>query_text</th>\n",
              "      <th>doc_id</th>\n",
              "      <th>snt_id</th>\n",
              "      <th>source_snt</th>\n",
              "      <th>simplification</th>\n",
              "    </tr>\n",
              "  </thead>\n",
              "  <tbody>\n",
              "    <tr>\n",
              "      <th>0</th>\n",
              "      <td>G11.1</td>\n",
              "      <td>drones</td>\n",
              "      <td>2892036907</td>\n",
              "      <td>G11.1_2892036907_1</td>\n",
              "      <td>In the modern era of automation and robotics, ...</td>\n",
              "      <td>Research is focused on autonomous vehicles.</td>\n",
              "    </tr>\n",
              "    <tr>\n",
              "      <th>1</th>\n",
              "      <td>G11.1</td>\n",
              "      <td>drones</td>\n",
              "      <td>2892036907</td>\n",
              "      <td>G11.1_2892036907_2</td>\n",
              "      <td>With the ever increasing number of unmanned ae...</td>\n",
              "      <td>There is a growing need for autonomy in unmann...</td>\n",
              "    </tr>\n",
              "    <tr>\n",
              "      <th>2</th>\n",
              "      <td>G11.1</td>\n",
              "      <td>drones</td>\n",
              "      <td>2892036907</td>\n",
              "      <td>G11.1_2892036907_3</td>\n",
              "      <td>Due to guidelines set by the governments regar...</td>\n",
              "      <td>Government regulations are driving interest in...</td>\n",
              "    </tr>\n",
              "    <tr>\n",
              "      <th>3</th>\n",
              "      <td>G11.1</td>\n",
              "      <td>drones</td>\n",
              "      <td>2892036907</td>\n",
              "      <td>G11.1_2892036907_4</td>\n",
              "      <td>In an attempt to achieve the above mentioned t...</td>\n",
              "      <td>We propose a data-driven solution for UAV auto...</td>\n",
              "    </tr>\n",
              "    <tr>\n",
              "      <th>4</th>\n",
              "      <td>G11.1</td>\n",
              "      <td>drones</td>\n",
              "      <td>2892036907</td>\n",
              "      <td>G11.1_2892036907_5</td>\n",
              "      <td>Derived from the classic image classification ...</td>\n",
              "      <td>Our image classification algorithm uses a 39-l...</td>\n",
              "    </tr>\n",
              "  </tbody>\n",
              "</table>\n",
              "</div>"
            ],
            "text/plain": [
              "  query_id query_text      doc_id              snt_id  \\\n",
              "0    G11.1     drones  2892036907  G11.1_2892036907_1   \n",
              "1    G11.1     drones  2892036907  G11.1_2892036907_2   \n",
              "2    G11.1     drones  2892036907  G11.1_2892036907_3   \n",
              "3    G11.1     drones  2892036907  G11.1_2892036907_4   \n",
              "4    G11.1     drones  2892036907  G11.1_2892036907_5   \n",
              "\n",
              "                                          source_snt  \\\n",
              "0  In the modern era of automation and robotics, ...   \n",
              "1  With the ever increasing number of unmanned ae...   \n",
              "2  Due to guidelines set by the governments regar...   \n",
              "3  In an attempt to achieve the above mentioned t...   \n",
              "4  Derived from the classic image classification ...   \n",
              "\n",
              "                                      simplification  \n",
              "0        Research is focused on autonomous vehicles.  \n",
              "1  There is a growing need for autonomy in unmann...  \n",
              "2  Government regulations are driving interest in...  \n",
              "3  We propose a data-driven solution for UAV auto...  \n",
              "4  Our image classification algorithm uses a 39-l...  "
            ]
          },
          "execution_count": 30,
          "metadata": {},
          "output_type": "execute_result"
        }
      ],
      "source": [
        "train['simplification']=train[\"source_snt\"].apply(lambda x:json.loads(completion(prompt_simplification+x))['simplification'])\n",
        "train"
      ]
    },
    {
      "cell_type": "code",
      "execution_count": null,
      "metadata": {
        "id": "fQyXvrDAWcut"
      },
      "outputs": [],
      "source": [
        "prompt_terms=\"\"\"\n",
        "    You are a robot that ONLY outputs JSON.\n",
        "    You reply in JSON format with the field 'terms'.\n",
        "    You provide semicolon-separated  list of scientific terms of a source sentence ONLY.\n",
        "    You DO NOT add 'Sure! Here are the scientific terms of your sentence:'.\n",
        "    Example source sentence: In the modern era of automation and robotics, \\\n",
        "    autonomous vehicles are currently the focus of academic and industrial research.? \\\n",
        "    Example answer: {'terms': 'robotics; autonomous vehicles'}\n",
        "    Now here is my sentence:\n",
        "\"\"\""
      ]
    },
    {
      "cell_type": "code",
      "execution_count": null,
      "metadata": {
        "colab": {
          "base_uri": "https://localhost:8080/",
          "height": 35
        },
        "id": "hTaBWcwJXAXw",
        "outputId": "e34b9744-9880-497e-df80-787773d659a0"
      },
      "outputs": [
        {
          "data": {
            "application/vnd.google.colaboratory.intrinsic+json": {
              "type": "string"
            },
            "text/plain": [
              "' {\\n\"terms\": \"autonomous vehicles; robotics; automation\"\\n}'"
            ]
          },
          "execution_count": 28,
          "metadata": {},
          "output_type": "execute_result"
        }
      ],
      "source": [
        "c=completion(prompt_terms+train['source_snt'][0])\n",
        "c"
      ]
    },
    {
      "cell_type": "code",
      "execution_count": null,
      "metadata": {
        "colab": {
          "base_uri": "https://localhost:8080/"
        },
        "id": "Jfvcx6jEXzUs",
        "outputId": "f341d867-9638-402e-8db4-dde018567040"
      },
      "outputs": [
        {
          "data": {
            "text/plain": [
              "{'terms': 'autonomous vehicles; robotics; automation'}"
            ]
          },
          "execution_count": 29,
          "metadata": {},
          "output_type": "execute_result"
        }
      ],
      "source": [
        "json.loads(c)"
      ]
    },
    {
      "cell_type": "code",
      "execution_count": null,
      "metadata": {
        "colab": {
          "base_uri": "https://localhost:8080/",
          "height": 503
        },
        "id": "ssS6Me9-Xirg",
        "outputId": "bef1d392-7f97-4742-f805-3f1e59dc1edf"
      },
      "outputs": [
        {
          "name": "stderr",
          "output_type": "stream",
          "text": [
            "<ipython-input-30-3e19c191d485>:1: SettingWithCopyWarning: \n",
            "A value is trying to be set on a copy of a slice from a DataFrame.\n",
            "Try using .loc[row_indexer,col_indexer] = value instead\n",
            "\n",
            "See the caveats in the documentation: https://pandas.pydata.org/pandas-docs/stable/user_guide/indexing.html#returning-a-view-versus-a-copy\n",
            "  train['all_terms']=train[\"source_snt\"].apply(lambda x:json.loads(completion(prompt_terms+x))['terms'])\n"
          ]
        },
        {
          "data": {
            "application/vnd.google.colaboratory.intrinsic+json": {
              "summary": "{\n  \"name\": \"train\",\n  \"rows\": 5,\n  \"fields\": [\n    {\n      \"column\": \"query_id\",\n      \"properties\": {\n        \"dtype\": \"category\",\n        \"num_unique_values\": 1,\n        \"samples\": [\n          \"G11.1\"\n        ],\n        \"semantic_type\": \"\",\n        \"description\": \"\"\n      }\n    },\n    {\n      \"column\": \"query_text\",\n      \"properties\": {\n        \"dtype\": \"category\",\n        \"num_unique_values\": 1,\n        \"samples\": [\n          \"drones\"\n        ],\n        \"semantic_type\": \"\",\n        \"description\": \"\"\n      }\n    },\n    {\n      \"column\": \"doc_id\",\n      \"properties\": {\n        \"dtype\": \"number\",\n        \"std\": 0,\n        \"min\": 2892036907,\n        \"max\": 2892036907,\n        \"num_unique_values\": 1,\n        \"samples\": [\n          2892036907\n        ],\n        \"semantic_type\": \"\",\n        \"description\": \"\"\n      }\n    },\n    {\n      \"column\": \"snt_id\",\n      \"properties\": {\n        \"dtype\": \"string\",\n        \"num_unique_values\": 5,\n        \"samples\": [\n          \"G11.1_2892036907_2\"\n        ],\n        \"semantic_type\": \"\",\n        \"description\": \"\"\n      }\n    },\n    {\n      \"column\": \"source_snt\",\n      \"properties\": {\n        \"dtype\": \"string\",\n        \"num_unique_values\": 5,\n        \"samples\": [\n          \"With the ever increasing number of unmanned aerial vehicles getting involved in activities in the civilian and commercial domain, there is an increased need for autonomy in these systems too.\"\n        ],\n        \"semantic_type\": \"\",\n        \"description\": \"\"\n      }\n    },\n    {\n      \"column\": \"simplification\",\n      \"properties\": {\n        \"dtype\": \"string\",\n        \"num_unique_values\": 5,\n        \"samples\": [\n          \"There is a growing need for autonomy in unmanned aerial vehicles (UAVs) as they become more prevalent in civilian and commercial activities.\"\n        ],\n        \"semantic_type\": \"\",\n        \"description\": \"\"\n      }\n    },\n    {\n      \"column\": \"all_terms\",\n      \"properties\": {\n        \"dtype\": \"string\",\n        \"num_unique_values\": 5,\n        \"samples\": [\n          \"unmanned aerial vehicles; autonomy\"\n        ],\n        \"semantic_type\": \"\",\n        \"description\": \"\"\n      }\n    }\n  ]\n}",
              "type": "dataframe",
              "variable_name": "train"
            },
            "text/html": [
              "\n",
              "  <div id=\"df-0ddbb14e-ce45-4af1-85e3-d1ad7432a865\" class=\"colab-df-container\">\n",
              "    <div>\n",
              "<style scoped>\n",
              "    .dataframe tbody tr th:only-of-type {\n",
              "        vertical-align: middle;\n",
              "    }\n",
              "\n",
              "    .dataframe tbody tr th {\n",
              "        vertical-align: top;\n",
              "    }\n",
              "\n",
              "    .dataframe thead th {\n",
              "        text-align: right;\n",
              "    }\n",
              "</style>\n",
              "<table border=\"1\" class=\"dataframe\">\n",
              "  <thead>\n",
              "    <tr style=\"text-align: right;\">\n",
              "      <th></th>\n",
              "      <th>query_id</th>\n",
              "      <th>query_text</th>\n",
              "      <th>doc_id</th>\n",
              "      <th>snt_id</th>\n",
              "      <th>source_snt</th>\n",
              "      <th>simplification</th>\n",
              "      <th>all_terms</th>\n",
              "    </tr>\n",
              "  </thead>\n",
              "  <tbody>\n",
              "    <tr>\n",
              "      <th>0</th>\n",
              "      <td>G11.1</td>\n",
              "      <td>drones</td>\n",
              "      <td>2892036907</td>\n",
              "      <td>G11.1_2892036907_1</td>\n",
              "      <td>In the modern era of automation and robotics, ...</td>\n",
              "      <td>Research is focused on autonomous vehicles.</td>\n",
              "      <td>automation; robotics; autonomous vehicles</td>\n",
              "    </tr>\n",
              "    <tr>\n",
              "      <th>1</th>\n",
              "      <td>G11.1</td>\n",
              "      <td>drones</td>\n",
              "      <td>2892036907</td>\n",
              "      <td>G11.1_2892036907_2</td>\n",
              "      <td>With the ever increasing number of unmanned ae...</td>\n",
              "      <td>There is a growing need for autonomy in unmann...</td>\n",
              "      <td>unmanned aerial vehicles; autonomy</td>\n",
              "    </tr>\n",
              "    <tr>\n",
              "      <th>2</th>\n",
              "      <td>G11.1</td>\n",
              "      <td>drones</td>\n",
              "      <td>2892036907</td>\n",
              "      <td>G11.1_2892036907_3</td>\n",
              "      <td>Due to guidelines set by the governments regar...</td>\n",
              "      <td>Government regulations are driving interest in...</td>\n",
              "      <td>civil drones; road-tracking based navigation</td>\n",
              "    </tr>\n",
              "    <tr>\n",
              "      <th>3</th>\n",
              "      <td>G11.1</td>\n",
              "      <td>drones</td>\n",
              "      <td>2892036907</td>\n",
              "      <td>G11.1_2892036907_4</td>\n",
              "      <td>In an attempt to achieve the above mentioned t...</td>\n",
              "      <td>We propose a data-driven solution for UAV auto...</td>\n",
              "      <td>UAV autonomy; expert pilot; data-driven soluti...</td>\n",
              "    </tr>\n",
              "    <tr>\n",
              "      <th>4</th>\n",
              "      <td>G11.1</td>\n",
              "      <td>drones</td>\n",
              "      <td>2892036907</td>\n",
              "      <td>G11.1_2892036907_5</td>\n",
              "      <td>Derived from the classic image classification ...</td>\n",
              "      <td>Our image classification algorithm uses a 39-l...</td>\n",
              "      <td>image classification; Inception model; tomogra...</td>\n",
              "    </tr>\n",
              "  </tbody>\n",
              "</table>\n",
              "</div>\n",
              "    <div class=\"colab-df-buttons\">\n",
              "\n",
              "  <div class=\"colab-df-container\">\n",
              "    <button class=\"colab-df-convert\" onclick=\"convertToInteractive('df-0ddbb14e-ce45-4af1-85e3-d1ad7432a865')\"\n",
              "            title=\"Convert this dataframe to an interactive table.\"\n",
              "            style=\"display:none;\">\n",
              "\n",
              "  <svg xmlns=\"http://www.w3.org/2000/svg\" height=\"24px\" viewBox=\"0 -960 960 960\">\n",
              "    <path d=\"M120-120v-720h720v720H120Zm60-500h600v-160H180v160Zm220 220h160v-160H400v160Zm0 220h160v-160H400v160ZM180-400h160v-160H180v160Zm440 0h160v-160H620v160ZM180-180h160v-160H180v160Zm440 0h160v-160H620v160Z\"/>\n",
              "  </svg>\n",
              "    </button>\n",
              "\n",
              "  <style>\n",
              "    .colab-df-container {\n",
              "      display:flex;\n",
              "      gap: 12px;\n",
              "    }\n",
              "\n",
              "    .colab-df-convert {\n",
              "      background-color: #E8F0FE;\n",
              "      border: none;\n",
              "      border-radius: 50%;\n",
              "      cursor: pointer;\n",
              "      display: none;\n",
              "      fill: #1967D2;\n",
              "      height: 32px;\n",
              "      padding: 0 0 0 0;\n",
              "      width: 32px;\n",
              "    }\n",
              "\n",
              "    .colab-df-convert:hover {\n",
              "      background-color: #E2EBFA;\n",
              "      box-shadow: 0px 1px 2px rgba(60, 64, 67, 0.3), 0px 1px 3px 1px rgba(60, 64, 67, 0.15);\n",
              "      fill: #174EA6;\n",
              "    }\n",
              "\n",
              "    .colab-df-buttons div {\n",
              "      margin-bottom: 4px;\n",
              "    }\n",
              "\n",
              "    [theme=dark] .colab-df-convert {\n",
              "      background-color: #3B4455;\n",
              "      fill: #D2E3FC;\n",
              "    }\n",
              "\n",
              "    [theme=dark] .colab-df-convert:hover {\n",
              "      background-color: #434B5C;\n",
              "      box-shadow: 0px 1px 3px 1px rgba(0, 0, 0, 0.15);\n",
              "      filter: drop-shadow(0px 1px 2px rgba(0, 0, 0, 0.3));\n",
              "      fill: #FFFFFF;\n",
              "    }\n",
              "  </style>\n",
              "\n",
              "    <script>\n",
              "      const buttonEl =\n",
              "        document.querySelector('#df-0ddbb14e-ce45-4af1-85e3-d1ad7432a865 button.colab-df-convert');\n",
              "      buttonEl.style.display =\n",
              "        google.colab.kernel.accessAllowed ? 'block' : 'none';\n",
              "\n",
              "      async function convertToInteractive(key) {\n",
              "        const element = document.querySelector('#df-0ddbb14e-ce45-4af1-85e3-d1ad7432a865');\n",
              "        const dataTable =\n",
              "          await google.colab.kernel.invokeFunction('convertToInteractive',\n",
              "                                                    [key], {});\n",
              "        if (!dataTable) return;\n",
              "\n",
              "        const docLinkHtml = 'Like what you see? Visit the ' +\n",
              "          '<a target=\"_blank\" href=https://colab.research.google.com/notebooks/data_table.ipynb>data table notebook</a>'\n",
              "          + ' to learn more about interactive tables.';\n",
              "        element.innerHTML = '';\n",
              "        dataTable['output_type'] = 'display_data';\n",
              "        await google.colab.output.renderOutput(dataTable, element);\n",
              "        const docLink = document.createElement('div');\n",
              "        docLink.innerHTML = docLinkHtml;\n",
              "        element.appendChild(docLink);\n",
              "      }\n",
              "    </script>\n",
              "  </div>\n",
              "\n",
              "\n",
              "<div id=\"df-0cd63106-12e2-4ef3-95ac-3f295c95c542\">\n",
              "  <button class=\"colab-df-quickchart\" onclick=\"quickchart('df-0cd63106-12e2-4ef3-95ac-3f295c95c542')\"\n",
              "            title=\"Suggest charts\"\n",
              "            style=\"display:none;\">\n",
              "\n",
              "<svg xmlns=\"http://www.w3.org/2000/svg\" height=\"24px\"viewBox=\"0 0 24 24\"\n",
              "     width=\"24px\">\n",
              "    <g>\n",
              "        <path d=\"M19 3H5c-1.1 0-2 .9-2 2v14c0 1.1.9 2 2 2h14c1.1 0 2-.9 2-2V5c0-1.1-.9-2-2-2zM9 17H7v-7h2v7zm4 0h-2V7h2v10zm4 0h-2v-4h2v4z\"/>\n",
              "    </g>\n",
              "</svg>\n",
              "  </button>\n",
              "\n",
              "<style>\n",
              "  .colab-df-quickchart {\n",
              "      --bg-color: #E8F0FE;\n",
              "      --fill-color: #1967D2;\n",
              "      --hover-bg-color: #E2EBFA;\n",
              "      --hover-fill-color: #174EA6;\n",
              "      --disabled-fill-color: #AAA;\n",
              "      --disabled-bg-color: #DDD;\n",
              "  }\n",
              "\n",
              "  [theme=dark] .colab-df-quickchart {\n",
              "      --bg-color: #3B4455;\n",
              "      --fill-color: #D2E3FC;\n",
              "      --hover-bg-color: #434B5C;\n",
              "      --hover-fill-color: #FFFFFF;\n",
              "      --disabled-bg-color: #3B4455;\n",
              "      --disabled-fill-color: #666;\n",
              "  }\n",
              "\n",
              "  .colab-df-quickchart {\n",
              "    background-color: var(--bg-color);\n",
              "    border: none;\n",
              "    border-radius: 50%;\n",
              "    cursor: pointer;\n",
              "    display: none;\n",
              "    fill: var(--fill-color);\n",
              "    height: 32px;\n",
              "    padding: 0;\n",
              "    width: 32px;\n",
              "  }\n",
              "\n",
              "  .colab-df-quickchart:hover {\n",
              "    background-color: var(--hover-bg-color);\n",
              "    box-shadow: 0 1px 2px rgba(60, 64, 67, 0.3), 0 1px 3px 1px rgba(60, 64, 67, 0.15);\n",
              "    fill: var(--button-hover-fill-color);\n",
              "  }\n",
              "\n",
              "  .colab-df-quickchart-complete:disabled,\n",
              "  .colab-df-quickchart-complete:disabled:hover {\n",
              "    background-color: var(--disabled-bg-color);\n",
              "    fill: var(--disabled-fill-color);\n",
              "    box-shadow: none;\n",
              "  }\n",
              "\n",
              "  .colab-df-spinner {\n",
              "    border: 2px solid var(--fill-color);\n",
              "    border-color: transparent;\n",
              "    border-bottom-color: var(--fill-color);\n",
              "    animation:\n",
              "      spin 1s steps(1) infinite;\n",
              "  }\n",
              "\n",
              "  @keyframes spin {\n",
              "    0% {\n",
              "      border-color: transparent;\n",
              "      border-bottom-color: var(--fill-color);\n",
              "      border-left-color: var(--fill-color);\n",
              "    }\n",
              "    20% {\n",
              "      border-color: transparent;\n",
              "      border-left-color: var(--fill-color);\n",
              "      border-top-color: var(--fill-color);\n",
              "    }\n",
              "    30% {\n",
              "      border-color: transparent;\n",
              "      border-left-color: var(--fill-color);\n",
              "      border-top-color: var(--fill-color);\n",
              "      border-right-color: var(--fill-color);\n",
              "    }\n",
              "    40% {\n",
              "      border-color: transparent;\n",
              "      border-right-color: var(--fill-color);\n",
              "      border-top-color: var(--fill-color);\n",
              "    }\n",
              "    60% {\n",
              "      border-color: transparent;\n",
              "      border-right-color: var(--fill-color);\n",
              "    }\n",
              "    80% {\n",
              "      border-color: transparent;\n",
              "      border-right-color: var(--fill-color);\n",
              "      border-bottom-color: var(--fill-color);\n",
              "    }\n",
              "    90% {\n",
              "      border-color: transparent;\n",
              "      border-bottom-color: var(--fill-color);\n",
              "    }\n",
              "  }\n",
              "</style>\n",
              "\n",
              "  <script>\n",
              "    async function quickchart(key) {\n",
              "      const quickchartButtonEl =\n",
              "        document.querySelector('#' + key + ' button');\n",
              "      quickchartButtonEl.disabled = true;  // To prevent multiple clicks.\n",
              "      quickchartButtonEl.classList.add('colab-df-spinner');\n",
              "      try {\n",
              "        const charts = await google.colab.kernel.invokeFunction(\n",
              "            'suggestCharts', [key], {});\n",
              "      } catch (error) {\n",
              "        console.error('Error during call to suggestCharts:', error);\n",
              "      }\n",
              "      quickchartButtonEl.classList.remove('colab-df-spinner');\n",
              "      quickchartButtonEl.classList.add('colab-df-quickchart-complete');\n",
              "    }\n",
              "    (() => {\n",
              "      let quickchartButtonEl =\n",
              "        document.querySelector('#df-0cd63106-12e2-4ef3-95ac-3f295c95c542 button');\n",
              "      quickchartButtonEl.style.display =\n",
              "        google.colab.kernel.accessAllowed ? 'block' : 'none';\n",
              "    })();\n",
              "  </script>\n",
              "</div>\n",
              "    </div>\n",
              "  </div>\n"
            ],
            "text/plain": [
              "  query_id query_text      doc_id              snt_id  \\\n",
              "0    G11.1     drones  2892036907  G11.1_2892036907_1   \n",
              "1    G11.1     drones  2892036907  G11.1_2892036907_2   \n",
              "2    G11.1     drones  2892036907  G11.1_2892036907_3   \n",
              "3    G11.1     drones  2892036907  G11.1_2892036907_4   \n",
              "4    G11.1     drones  2892036907  G11.1_2892036907_5   \n",
              "\n",
              "                                          source_snt  \\\n",
              "0  In the modern era of automation and robotics, ...   \n",
              "1  With the ever increasing number of unmanned ae...   \n",
              "2  Due to guidelines set by the governments regar...   \n",
              "3  In an attempt to achieve the above mentioned t...   \n",
              "4  Derived from the classic image classification ...   \n",
              "\n",
              "                                      simplification  \\\n",
              "0        Research is focused on autonomous vehicles.   \n",
              "1  There is a growing need for autonomy in unmann...   \n",
              "2  Government regulations are driving interest in...   \n",
              "3  We propose a data-driven solution for UAV auto...   \n",
              "4  Our image classification algorithm uses a 39-l...   \n",
              "\n",
              "                                           all_terms  \n",
              "0          automation; robotics; autonomous vehicles  \n",
              "1                 unmanned aerial vehicles; autonomy  \n",
              "2       civil drones; road-tracking based navigation  \n",
              "3  UAV autonomy; expert pilot; data-driven soluti...  \n",
              "4  image classification; Inception model; tomogra...  "
            ]
          },
          "execution_count": 30,
          "metadata": {},
          "output_type": "execute_result"
        }
      ],
      "source": [
        "train['all_terms']=train[\"source_snt\"].apply(lambda x:json.loads(completion(prompt_terms+x))['terms'])\n",
        "train"
      ]
    },
    {
      "cell_type": "code",
      "execution_count": null,
      "metadata": {
        "colab": {
          "base_uri": "https://localhost:8080/",
          "height": 1000
        },
        "id": "eDkb51HaaiPS",
        "outputId": "0fc5dcdb-6468-4f56-afbc-96e525f70d64"
      },
      "outputs": [
        {
          "name": "stderr",
          "output_type": "stream",
          "text": [
            "<ipython-input-31-73bdd7af7009>:1: SettingWithCopyWarning: \n",
            "A value is trying to be set on a copy of a slice from a DataFrame.\n",
            "Try using .loc[row_indexer,col_indexer] = value instead\n",
            "\n",
            "See the caveats in the documentation: https://pandas.pydata.org/pandas-docs/stable/user_guide/indexing.html#returning-a-view-versus-a-copy\n",
            "  train['terms']=train['all_terms'].str.split(\";\")\n"
          ]
        },
        {
          "data": {
            "application/vnd.google.colaboratory.intrinsic+json": {
              "summary": "{\n  \"name\": \"train\",\n  \"rows\": 14,\n  \"fields\": [\n    {\n      \"column\": \"query_id\",\n      \"properties\": {\n        \"dtype\": \"category\",\n        \"num_unique_values\": 1,\n        \"samples\": [\n          \"G11.1\"\n        ],\n        \"semantic_type\": \"\",\n        \"description\": \"\"\n      }\n    },\n    {\n      \"column\": \"query_text\",\n      \"properties\": {\n        \"dtype\": \"category\",\n        \"num_unique_values\": 1,\n        \"samples\": [\n          \"drones\"\n        ],\n        \"semantic_type\": \"\",\n        \"description\": \"\"\n      }\n    },\n    {\n      \"column\": \"doc_id\",\n      \"properties\": {\n        \"dtype\": \"number\",\n        \"std\": 0,\n        \"min\": 2892036907,\n        \"max\": 2892036907,\n        \"num_unique_values\": 1,\n        \"samples\": [\n          2892036907\n        ],\n        \"semantic_type\": \"\",\n        \"description\": \"\"\n      }\n    },\n    {\n      \"column\": \"snt_id\",\n      \"properties\": {\n        \"dtype\": \"category\",\n        \"num_unique_values\": 5,\n        \"samples\": [\n          \"G11.1_2892036907_2\"\n        ],\n        \"semantic_type\": \"\",\n        \"description\": \"\"\n      }\n    },\n    {\n      \"column\": \"source_snt\",\n      \"properties\": {\n        \"dtype\": \"category\",\n        \"num_unique_values\": 5,\n        \"samples\": [\n          \"With the ever increasing number of unmanned aerial vehicles getting involved in activities in the civilian and commercial domain, there is an increased need for autonomy in these systems too.\"\n        ],\n        \"semantic_type\": \"\",\n        \"description\": \"\"\n      }\n    },\n    {\n      \"column\": \"simplification\",\n      \"properties\": {\n        \"dtype\": \"category\",\n        \"num_unique_values\": 5,\n        \"samples\": [\n          \"There is a growing need for autonomy in unmanned aerial vehicles (UAVs) as they become more prevalent in civilian and commercial activities.\"\n        ],\n        \"semantic_type\": \"\",\n        \"description\": \"\"\n      }\n    },\n    {\n      \"column\": \"all_terms\",\n      \"properties\": {\n        \"dtype\": \"category\",\n        \"num_unique_values\": 5,\n        \"samples\": [\n          \"unmanned aerial vehicles; autonomy\"\n        ],\n        \"semantic_type\": \"\",\n        \"description\": \"\"\n      }\n    },\n    {\n      \"column\": \"terms\",\n      \"properties\": {\n        \"dtype\": \"string\",\n        \"num_unique_values\": 14,\n        \"samples\": [\n          \" data-driven solution\"\n        ],\n        \"semantic_type\": \"\",\n        \"description\": \"\"\n      }\n    }\n  ]\n}",
              "type": "dataframe",
              "variable_name": "train"
            },
            "text/html": [
              "\n",
              "  <div id=\"df-706725b2-563a-4213-b73d-6832a69b3c5b\" class=\"colab-df-container\">\n",
              "    <div>\n",
              "<style scoped>\n",
              "    .dataframe tbody tr th:only-of-type {\n",
              "        vertical-align: middle;\n",
              "    }\n",
              "\n",
              "    .dataframe tbody tr th {\n",
              "        vertical-align: top;\n",
              "    }\n",
              "\n",
              "    .dataframe thead th {\n",
              "        text-align: right;\n",
              "    }\n",
              "</style>\n",
              "<table border=\"1\" class=\"dataframe\">\n",
              "  <thead>\n",
              "    <tr style=\"text-align: right;\">\n",
              "      <th></th>\n",
              "      <th>query_id</th>\n",
              "      <th>query_text</th>\n",
              "      <th>doc_id</th>\n",
              "      <th>snt_id</th>\n",
              "      <th>source_snt</th>\n",
              "      <th>simplification</th>\n",
              "      <th>all_terms</th>\n",
              "      <th>terms</th>\n",
              "    </tr>\n",
              "  </thead>\n",
              "  <tbody>\n",
              "    <tr>\n",
              "      <th>0</th>\n",
              "      <td>G11.1</td>\n",
              "      <td>drones</td>\n",
              "      <td>2892036907</td>\n",
              "      <td>G11.1_2892036907_1</td>\n",
              "      <td>In the modern era of automation and robotics, ...</td>\n",
              "      <td>Research is focused on autonomous vehicles.</td>\n",
              "      <td>automation; robotics; autonomous vehicles</td>\n",
              "      <td>automation</td>\n",
              "    </tr>\n",
              "    <tr>\n",
              "      <th>1</th>\n",
              "      <td>G11.1</td>\n",
              "      <td>drones</td>\n",
              "      <td>2892036907</td>\n",
              "      <td>G11.1_2892036907_1</td>\n",
              "      <td>In the modern era of automation and robotics, ...</td>\n",
              "      <td>Research is focused on autonomous vehicles.</td>\n",
              "      <td>automation; robotics; autonomous vehicles</td>\n",
              "      <td>robotics</td>\n",
              "    </tr>\n",
              "    <tr>\n",
              "      <th>2</th>\n",
              "      <td>G11.1</td>\n",
              "      <td>drones</td>\n",
              "      <td>2892036907</td>\n",
              "      <td>G11.1_2892036907_1</td>\n",
              "      <td>In the modern era of automation and robotics, ...</td>\n",
              "      <td>Research is focused on autonomous vehicles.</td>\n",
              "      <td>automation; robotics; autonomous vehicles</td>\n",
              "      <td>autonomous vehicles</td>\n",
              "    </tr>\n",
              "    <tr>\n",
              "      <th>3</th>\n",
              "      <td>G11.1</td>\n",
              "      <td>drones</td>\n",
              "      <td>2892036907</td>\n",
              "      <td>G11.1_2892036907_2</td>\n",
              "      <td>With the ever increasing number of unmanned ae...</td>\n",
              "      <td>There is a growing need for autonomy in unmann...</td>\n",
              "      <td>unmanned aerial vehicles; autonomy</td>\n",
              "      <td>unmanned aerial vehicles</td>\n",
              "    </tr>\n",
              "    <tr>\n",
              "      <th>4</th>\n",
              "      <td>G11.1</td>\n",
              "      <td>drones</td>\n",
              "      <td>2892036907</td>\n",
              "      <td>G11.1_2892036907_2</td>\n",
              "      <td>With the ever increasing number of unmanned ae...</td>\n",
              "      <td>There is a growing need for autonomy in unmann...</td>\n",
              "      <td>unmanned aerial vehicles; autonomy</td>\n",
              "      <td>autonomy</td>\n",
              "    </tr>\n",
              "    <tr>\n",
              "      <th>5</th>\n",
              "      <td>G11.1</td>\n",
              "      <td>drones</td>\n",
              "      <td>2892036907</td>\n",
              "      <td>G11.1_2892036907_3</td>\n",
              "      <td>Due to guidelines set by the governments regar...</td>\n",
              "      <td>Government regulations are driving interest in...</td>\n",
              "      <td>civil drones; road-tracking based navigation</td>\n",
              "      <td>civil drones</td>\n",
              "    </tr>\n",
              "    <tr>\n",
              "      <th>6</th>\n",
              "      <td>G11.1</td>\n",
              "      <td>drones</td>\n",
              "      <td>2892036907</td>\n",
              "      <td>G11.1_2892036907_3</td>\n",
              "      <td>Due to guidelines set by the governments regar...</td>\n",
              "      <td>Government regulations are driving interest in...</td>\n",
              "      <td>civil drones; road-tracking based navigation</td>\n",
              "      <td>road-tracking based navigation</td>\n",
              "    </tr>\n",
              "    <tr>\n",
              "      <th>7</th>\n",
              "      <td>G11.1</td>\n",
              "      <td>drones</td>\n",
              "      <td>2892036907</td>\n",
              "      <td>G11.1_2892036907_4</td>\n",
              "      <td>In an attempt to achieve the above mentioned t...</td>\n",
              "      <td>We propose a data-driven solution for UAV auto...</td>\n",
              "      <td>UAV autonomy; expert pilot; data-driven soluti...</td>\n",
              "      <td>UAV autonomy</td>\n",
              "    </tr>\n",
              "    <tr>\n",
              "      <th>8</th>\n",
              "      <td>G11.1</td>\n",
              "      <td>drones</td>\n",
              "      <td>2892036907</td>\n",
              "      <td>G11.1_2892036907_4</td>\n",
              "      <td>In an attempt to achieve the above mentioned t...</td>\n",
              "      <td>We propose a data-driven solution for UAV auto...</td>\n",
              "      <td>UAV autonomy; expert pilot; data-driven soluti...</td>\n",
              "      <td>expert pilot</td>\n",
              "    </tr>\n",
              "    <tr>\n",
              "      <th>9</th>\n",
              "      <td>G11.1</td>\n",
              "      <td>drones</td>\n",
              "      <td>2892036907</td>\n",
              "      <td>G11.1_2892036907_4</td>\n",
              "      <td>In an attempt to achieve the above mentioned t...</td>\n",
              "      <td>We propose a data-driven solution for UAV auto...</td>\n",
              "      <td>UAV autonomy; expert pilot; data-driven soluti...</td>\n",
              "      <td>data-driven solution</td>\n",
              "    </tr>\n",
              "    <tr>\n",
              "      <th>10</th>\n",
              "      <td>G11.1</td>\n",
              "      <td>drones</td>\n",
              "      <td>2892036907</td>\n",
              "      <td>G11.1_2892036907_4</td>\n",
              "      <td>In an attempt to achieve the above mentioned t...</td>\n",
              "      <td>We propose a data-driven solution for UAV auto...</td>\n",
              "      <td>UAV autonomy; expert pilot; data-driven soluti...</td>\n",
              "      <td>imitation learning</td>\n",
              "    </tr>\n",
              "    <tr>\n",
              "      <th>11</th>\n",
              "      <td>G11.1</td>\n",
              "      <td>drones</td>\n",
              "      <td>2892036907</td>\n",
              "      <td>G11.1_2892036907_5</td>\n",
              "      <td>Derived from the classic image classification ...</td>\n",
              "      <td>Our image classification algorithm uses a 39-l...</td>\n",
              "      <td>image classification; Inception model; tomogra...</td>\n",
              "      <td>image classification</td>\n",
              "    </tr>\n",
              "    <tr>\n",
              "      <th>12</th>\n",
              "      <td>G11.1</td>\n",
              "      <td>drones</td>\n",
              "      <td>2892036907</td>\n",
              "      <td>G11.1_2892036907_5</td>\n",
              "      <td>Derived from the classic image classification ...</td>\n",
              "      <td>Our image classification algorithm uses a 39-l...</td>\n",
              "      <td>image classification; Inception model; tomogra...</td>\n",
              "      <td>Inception model</td>\n",
              "    </tr>\n",
              "    <tr>\n",
              "      <th>13</th>\n",
              "      <td>G11.1</td>\n",
              "      <td>drones</td>\n",
              "      <td>2892036907</td>\n",
              "      <td>G11.1_2892036907_5</td>\n",
              "      <td>Derived from the classic image classification ...</td>\n",
              "      <td>Our image classification algorithm uses a 39-l...</td>\n",
              "      <td>image classification; Inception model; tomogra...</td>\n",
              "      <td>tomographic reconstruction</td>\n",
              "    </tr>\n",
              "  </tbody>\n",
              "</table>\n",
              "</div>\n",
              "    <div class=\"colab-df-buttons\">\n",
              "\n",
              "  <div class=\"colab-df-container\">\n",
              "    <button class=\"colab-df-convert\" onclick=\"convertToInteractive('df-706725b2-563a-4213-b73d-6832a69b3c5b')\"\n",
              "            title=\"Convert this dataframe to an interactive table.\"\n",
              "            style=\"display:none;\">\n",
              "\n",
              "  <svg xmlns=\"http://www.w3.org/2000/svg\" height=\"24px\" viewBox=\"0 -960 960 960\">\n",
              "    <path d=\"M120-120v-720h720v720H120Zm60-500h600v-160H180v160Zm220 220h160v-160H400v160Zm0 220h160v-160H400v160ZM180-400h160v-160H180v160Zm440 0h160v-160H620v160ZM180-180h160v-160H180v160Zm440 0h160v-160H620v160Z\"/>\n",
              "  </svg>\n",
              "    </button>\n",
              "\n",
              "  <style>\n",
              "    .colab-df-container {\n",
              "      display:flex;\n",
              "      gap: 12px;\n",
              "    }\n",
              "\n",
              "    .colab-df-convert {\n",
              "      background-color: #E8F0FE;\n",
              "      border: none;\n",
              "      border-radius: 50%;\n",
              "      cursor: pointer;\n",
              "      display: none;\n",
              "      fill: #1967D2;\n",
              "      height: 32px;\n",
              "      padding: 0 0 0 0;\n",
              "      width: 32px;\n",
              "    }\n",
              "\n",
              "    .colab-df-convert:hover {\n",
              "      background-color: #E2EBFA;\n",
              "      box-shadow: 0px 1px 2px rgba(60, 64, 67, 0.3), 0px 1px 3px 1px rgba(60, 64, 67, 0.15);\n",
              "      fill: #174EA6;\n",
              "    }\n",
              "\n",
              "    .colab-df-buttons div {\n",
              "      margin-bottom: 4px;\n",
              "    }\n",
              "\n",
              "    [theme=dark] .colab-df-convert {\n",
              "      background-color: #3B4455;\n",
              "      fill: #D2E3FC;\n",
              "    }\n",
              "\n",
              "    [theme=dark] .colab-df-convert:hover {\n",
              "      background-color: #434B5C;\n",
              "      box-shadow: 0px 1px 3px 1px rgba(0, 0, 0, 0.15);\n",
              "      filter: drop-shadow(0px 1px 2px rgba(0, 0, 0, 0.3));\n",
              "      fill: #FFFFFF;\n",
              "    }\n",
              "  </style>\n",
              "\n",
              "    <script>\n",
              "      const buttonEl =\n",
              "        document.querySelector('#df-706725b2-563a-4213-b73d-6832a69b3c5b button.colab-df-convert');\n",
              "      buttonEl.style.display =\n",
              "        google.colab.kernel.accessAllowed ? 'block' : 'none';\n",
              "\n",
              "      async function convertToInteractive(key) {\n",
              "        const element = document.querySelector('#df-706725b2-563a-4213-b73d-6832a69b3c5b');\n",
              "        const dataTable =\n",
              "          await google.colab.kernel.invokeFunction('convertToInteractive',\n",
              "                                                    [key], {});\n",
              "        if (!dataTable) return;\n",
              "\n",
              "        const docLinkHtml = 'Like what you see? Visit the ' +\n",
              "          '<a target=\"_blank\" href=https://colab.research.google.com/notebooks/data_table.ipynb>data table notebook</a>'\n",
              "          + ' to learn more about interactive tables.';\n",
              "        element.innerHTML = '';\n",
              "        dataTable['output_type'] = 'display_data';\n",
              "        await google.colab.output.renderOutput(dataTable, element);\n",
              "        const docLink = document.createElement('div');\n",
              "        docLink.innerHTML = docLinkHtml;\n",
              "        element.appendChild(docLink);\n",
              "      }\n",
              "    </script>\n",
              "  </div>\n",
              "\n",
              "\n",
              "<div id=\"df-49a44c30-918e-475d-a9ac-1603e6c9b2d8\">\n",
              "  <button class=\"colab-df-quickchart\" onclick=\"quickchart('df-49a44c30-918e-475d-a9ac-1603e6c9b2d8')\"\n",
              "            title=\"Suggest charts\"\n",
              "            style=\"display:none;\">\n",
              "\n",
              "<svg xmlns=\"http://www.w3.org/2000/svg\" height=\"24px\"viewBox=\"0 0 24 24\"\n",
              "     width=\"24px\">\n",
              "    <g>\n",
              "        <path d=\"M19 3H5c-1.1 0-2 .9-2 2v14c0 1.1.9 2 2 2h14c1.1 0 2-.9 2-2V5c0-1.1-.9-2-2-2zM9 17H7v-7h2v7zm4 0h-2V7h2v10zm4 0h-2v-4h2v4z\"/>\n",
              "    </g>\n",
              "</svg>\n",
              "  </button>\n",
              "\n",
              "<style>\n",
              "  .colab-df-quickchart {\n",
              "      --bg-color: #E8F0FE;\n",
              "      --fill-color: #1967D2;\n",
              "      --hover-bg-color: #E2EBFA;\n",
              "      --hover-fill-color: #174EA6;\n",
              "      --disabled-fill-color: #AAA;\n",
              "      --disabled-bg-color: #DDD;\n",
              "  }\n",
              "\n",
              "  [theme=dark] .colab-df-quickchart {\n",
              "      --bg-color: #3B4455;\n",
              "      --fill-color: #D2E3FC;\n",
              "      --hover-bg-color: #434B5C;\n",
              "      --hover-fill-color: #FFFFFF;\n",
              "      --disabled-bg-color: #3B4455;\n",
              "      --disabled-fill-color: #666;\n",
              "  }\n",
              "\n",
              "  .colab-df-quickchart {\n",
              "    background-color: var(--bg-color);\n",
              "    border: none;\n",
              "    border-radius: 50%;\n",
              "    cursor: pointer;\n",
              "    display: none;\n",
              "    fill: var(--fill-color);\n",
              "    height: 32px;\n",
              "    padding: 0;\n",
              "    width: 32px;\n",
              "  }\n",
              "\n",
              "  .colab-df-quickchart:hover {\n",
              "    background-color: var(--hover-bg-color);\n",
              "    box-shadow: 0 1px 2px rgba(60, 64, 67, 0.3), 0 1px 3px 1px rgba(60, 64, 67, 0.15);\n",
              "    fill: var(--button-hover-fill-color);\n",
              "  }\n",
              "\n",
              "  .colab-df-quickchart-complete:disabled,\n",
              "  .colab-df-quickchart-complete:disabled:hover {\n",
              "    background-color: var(--disabled-bg-color);\n",
              "    fill: var(--disabled-fill-color);\n",
              "    box-shadow: none;\n",
              "  }\n",
              "\n",
              "  .colab-df-spinner {\n",
              "    border: 2px solid var(--fill-color);\n",
              "    border-color: transparent;\n",
              "    border-bottom-color: var(--fill-color);\n",
              "    animation:\n",
              "      spin 1s steps(1) infinite;\n",
              "  }\n",
              "\n",
              "  @keyframes spin {\n",
              "    0% {\n",
              "      border-color: transparent;\n",
              "      border-bottom-color: var(--fill-color);\n",
              "      border-left-color: var(--fill-color);\n",
              "    }\n",
              "    20% {\n",
              "      border-color: transparent;\n",
              "      border-left-color: var(--fill-color);\n",
              "      border-top-color: var(--fill-color);\n",
              "    }\n",
              "    30% {\n",
              "      border-color: transparent;\n",
              "      border-left-color: var(--fill-color);\n",
              "      border-top-color: var(--fill-color);\n",
              "      border-right-color: var(--fill-color);\n",
              "    }\n",
              "    40% {\n",
              "      border-color: transparent;\n",
              "      border-right-color: var(--fill-color);\n",
              "      border-top-color: var(--fill-color);\n",
              "    }\n",
              "    60% {\n",
              "      border-color: transparent;\n",
              "      border-right-color: var(--fill-color);\n",
              "    }\n",
              "    80% {\n",
              "      border-color: transparent;\n",
              "      border-right-color: var(--fill-color);\n",
              "      border-bottom-color: var(--fill-color);\n",
              "    }\n",
              "    90% {\n",
              "      border-color: transparent;\n",
              "      border-bottom-color: var(--fill-color);\n",
              "    }\n",
              "  }\n",
              "</style>\n",
              "\n",
              "  <script>\n",
              "    async function quickchart(key) {\n",
              "      const quickchartButtonEl =\n",
              "        document.querySelector('#' + key + ' button');\n",
              "      quickchartButtonEl.disabled = true;  // To prevent multiple clicks.\n",
              "      quickchartButtonEl.classList.add('colab-df-spinner');\n",
              "      try {\n",
              "        const charts = await google.colab.kernel.invokeFunction(\n",
              "            'suggestCharts', [key], {});\n",
              "      } catch (error) {\n",
              "        console.error('Error during call to suggestCharts:', error);\n",
              "      }\n",
              "      quickchartButtonEl.classList.remove('colab-df-spinner');\n",
              "      quickchartButtonEl.classList.add('colab-df-quickchart-complete');\n",
              "    }\n",
              "    (() => {\n",
              "      let quickchartButtonEl =\n",
              "        document.querySelector('#df-49a44c30-918e-475d-a9ac-1603e6c9b2d8 button');\n",
              "      quickchartButtonEl.style.display =\n",
              "        google.colab.kernel.accessAllowed ? 'block' : 'none';\n",
              "    })();\n",
              "  </script>\n",
              "</div>\n",
              "    </div>\n",
              "  </div>\n"
            ],
            "text/plain": [
              "   query_id query_text      doc_id              snt_id  \\\n",
              "0     G11.1     drones  2892036907  G11.1_2892036907_1   \n",
              "1     G11.1     drones  2892036907  G11.1_2892036907_1   \n",
              "2     G11.1     drones  2892036907  G11.1_2892036907_1   \n",
              "3     G11.1     drones  2892036907  G11.1_2892036907_2   \n",
              "4     G11.1     drones  2892036907  G11.1_2892036907_2   \n",
              "5     G11.1     drones  2892036907  G11.1_2892036907_3   \n",
              "6     G11.1     drones  2892036907  G11.1_2892036907_3   \n",
              "7     G11.1     drones  2892036907  G11.1_2892036907_4   \n",
              "8     G11.1     drones  2892036907  G11.1_2892036907_4   \n",
              "9     G11.1     drones  2892036907  G11.1_2892036907_4   \n",
              "10    G11.1     drones  2892036907  G11.1_2892036907_4   \n",
              "11    G11.1     drones  2892036907  G11.1_2892036907_5   \n",
              "12    G11.1     drones  2892036907  G11.1_2892036907_5   \n",
              "13    G11.1     drones  2892036907  G11.1_2892036907_5   \n",
              "\n",
              "                                           source_snt  \\\n",
              "0   In the modern era of automation and robotics, ...   \n",
              "1   In the modern era of automation and robotics, ...   \n",
              "2   In the modern era of automation and robotics, ...   \n",
              "3   With the ever increasing number of unmanned ae...   \n",
              "4   With the ever increasing number of unmanned ae...   \n",
              "5   Due to guidelines set by the governments regar...   \n",
              "6   Due to guidelines set by the governments regar...   \n",
              "7   In an attempt to achieve the above mentioned t...   \n",
              "8   In an attempt to achieve the above mentioned t...   \n",
              "9   In an attempt to achieve the above mentioned t...   \n",
              "10  In an attempt to achieve the above mentioned t...   \n",
              "11  Derived from the classic image classification ...   \n",
              "12  Derived from the classic image classification ...   \n",
              "13  Derived from the classic image classification ...   \n",
              "\n",
              "                                       simplification  \\\n",
              "0         Research is focused on autonomous vehicles.   \n",
              "1         Research is focused on autonomous vehicles.   \n",
              "2         Research is focused on autonomous vehicles.   \n",
              "3   There is a growing need for autonomy in unmann...   \n",
              "4   There is a growing need for autonomy in unmann...   \n",
              "5   Government regulations are driving interest in...   \n",
              "6   Government regulations are driving interest in...   \n",
              "7   We propose a data-driven solution for UAV auto...   \n",
              "8   We propose a data-driven solution for UAV auto...   \n",
              "9   We propose a data-driven solution for UAV auto...   \n",
              "10  We propose a data-driven solution for UAV auto...   \n",
              "11  Our image classification algorithm uses a 39-l...   \n",
              "12  Our image classification algorithm uses a 39-l...   \n",
              "13  Our image classification algorithm uses a 39-l...   \n",
              "\n",
              "                                            all_terms  \\\n",
              "0           automation; robotics; autonomous vehicles   \n",
              "1           automation; robotics; autonomous vehicles   \n",
              "2           automation; robotics; autonomous vehicles   \n",
              "3                  unmanned aerial vehicles; autonomy   \n",
              "4                  unmanned aerial vehicles; autonomy   \n",
              "5        civil drones; road-tracking based navigation   \n",
              "6        civil drones; road-tracking based navigation   \n",
              "7   UAV autonomy; expert pilot; data-driven soluti...   \n",
              "8   UAV autonomy; expert pilot; data-driven soluti...   \n",
              "9   UAV autonomy; expert pilot; data-driven soluti...   \n",
              "10  UAV autonomy; expert pilot; data-driven soluti...   \n",
              "11  image classification; Inception model; tomogra...   \n",
              "12  image classification; Inception model; tomogra...   \n",
              "13  image classification; Inception model; tomogra...   \n",
              "\n",
              "                              terms  \n",
              "0                        automation  \n",
              "1                          robotics  \n",
              "2               autonomous vehicles  \n",
              "3          unmanned aerial vehicles  \n",
              "4                          autonomy  \n",
              "5                      civil drones  \n",
              "6    road-tracking based navigation  \n",
              "7                      UAV autonomy  \n",
              "8                      expert pilot  \n",
              "9              data-driven solution  \n",
              "10               imitation learning  \n",
              "11             image classification  \n",
              "12                  Inception model  \n",
              "13       tomographic reconstruction  "
            ]
          },
          "execution_count": 31,
          "metadata": {},
          "output_type": "execute_result"
        }
      ],
      "source": [
        "train['terms']=train['all_terms'].str.split(\";\")\n",
        "train=train.explode('terms').reset_index(drop=True)\n",
        "train.drop_duplicates(inplace=True,subset=['snt_id','terms'])\n",
        "train"
      ]
    },
    {
      "cell_type": "markdown",
      "metadata": {
        "id": "P_cnDUOzb_r4"
      },
      "source": [
        "# Excercise (5-10 source sentences MAX)\n",
        "\n",
        "1.   Experiment with different prompts for text simplification. For each prompt, create a new column with generated outputs. Add the ID (name) of the prompt to the column header. Keep track of your prompts.\n",
        "2.   Find all difficult scientific terms in each source sentence. For each scientific term, provide its level of difficulty, definition, explanation, and examples in separate columns. Keep track of your prompts.\n",
        "3. Add Wikipedia definitions based on the Introduction course (https://pypi.org/project/wikipedia/)\n",
        "4. Predict if a given text contains a pun (5-10 source sentences MAX) https://drive.google.com/file/d/1kheFk2vMaIedQCfSFiF4VA45CU4_-xfv/view?usp=drive_link Keep track of your prompts\n",
        "5. Translate the following puns into French (5-10 source sentences MAX) https://drive.google.com/file/d/1z_7ym2Bh2GmVqZW74FtYQaaY8dMEn-rJ/view?usp=drive_link Keep track of your prompts\n",
        "6. Register at https://clef2024.clef-initiative.eu/index.php?page=Pages/registration.html Choose the SimpleText and JOKER labs.\n",
        "\n",
        "\n",
        "\n"
      ]
    }
  ],
  "metadata": {
    "colab": {
      "provenance": []
    },
    "kernelspec": {
      "display_name": "myenv",
      "language": "python",
      "name": "myenv"
    },
    "language_info": {
      "codemirror_mode": {
        "name": "ipython",
        "version": 3
      },
      "file_extension": ".py",
      "mimetype": "text/x-python",
      "name": "python",
      "nbconvert_exporter": "python",
      "pygments_lexer": "ipython3",
      "version": "3.9.0"
    }
  },
  "nbformat": 4,
  "nbformat_minor": 0
}
